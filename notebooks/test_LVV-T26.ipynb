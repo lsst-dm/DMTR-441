{
 "cells": [
  {
   "cell_type": "markdown",
   "id": "7dbc5b40-b2f5-4d88-ac3d-c7311ba054d5",
   "metadata": {},
   "source": [
    "### Test case LVV-T26: Verify implementation of Maximum Likelihood Values and Covariances\n",
    "\n",
    "Verify that quantities delivered by all measurement algorithms include maximum likelihood values and covariances.\n",
    "\n",
    "**Discussion**: We will verify this requirement using the DP1 Qserv database, accessible via the TAP query service. "
   ]
  },
  {
   "cell_type": "code",
   "execution_count": 12,
   "id": "c1e9b4a4-7f6d-4cb1-94dc-b9202663bf76",
   "metadata": {
    "execution": {
     "iopub.execute_input": "2025-10-17T16:21:10.609258Z",
     "iopub.status.busy": "2025-10-17T16:21:10.608901Z",
     "iopub.status.idle": "2025-10-17T16:21:10.613591Z",
     "shell.execute_reply": "2025-10-17T16:21:10.612337Z",
     "shell.execute_reply.started": "2025-10-17T16:21:10.609229Z"
    }
   },
   "outputs": [],
   "source": [
    "import matplotlib.pyplot as plt\n",
    "import numpy as np\n",
    "\n",
    "from lsst.rsp import get_tap_service"
   ]
  },
  {
   "cell_type": "markdown",
   "id": "f289e2fa-1292-47cf-a8b4-091cd9f5c6d2",
   "metadata": {},
   "source": [
    "Instantiate the TAP service."
   ]
  },
  {
   "cell_type": "code",
   "execution_count": 2,
   "id": "49c94d28-082a-4b45-804c-f2551686e7a7",
   "metadata": {
    "execution": {
     "iopub.execute_input": "2025-10-17T16:15:14.137849Z",
     "iopub.status.busy": "2025-10-17T16:15:14.137447Z",
     "iopub.status.idle": "2025-10-17T16:15:14.173496Z",
     "shell.execute_reply": "2025-10-17T16:15:14.172890Z",
     "shell.execute_reply.started": "2025-10-17T16:15:14.137831Z"
    }
   },
   "outputs": [],
   "source": [
    "service = get_tap_service('tap')"
   ]
  },
  {
   "cell_type": "markdown",
   "id": "62ea997b-12c7-41b6-88f4-5c82c843282d",
   "metadata": {},
   "source": [
    "#### Retrieve the schema for the entire Object table:"
   ]
  },
  {
   "cell_type": "code",
   "execution_count": 5,
   "id": "4dab03d5-304c-498a-a282-0d8001eb74d1",
   "metadata": {
    "execution": {
     "iopub.execute_input": "2025-10-17T16:16:34.916079Z",
     "iopub.status.busy": "2025-10-17T16:16:34.915826Z",
     "iopub.status.idle": "2025-10-17T16:16:34.984463Z",
     "shell.execute_reply": "2025-10-17T16:16:34.983961Z",
     "shell.execute_reply.started": "2025-10-17T16:16:34.916061Z"
    }
   },
   "outputs": [],
   "source": [
    "query = \"SELECT column_name, datatype, description, unit \" \\\n",
    "        \"FROM tap_schema.columns \" \\\n",
    "        \"WHERE table_name = 'dp1.Object'\"\n",
    "columns = service.search(query).to_table()"
   ]
  },
  {
   "cell_type": "code",
   "execution_count": 6,
   "id": "45fb2340-4d0d-41f0-bf5d-599b6b570025",
   "metadata": {
    "execution": {
     "iopub.execute_input": "2025-10-17T16:16:39.786394Z",
     "iopub.status.busy": "2025-10-17T16:16:39.786137Z",
     "iopub.status.idle": "2025-10-17T16:16:39.792435Z",
     "shell.execute_reply": "2025-10-17T16:16:39.792018Z",
     "shell.execute_reply.started": "2025-10-17T16:16:39.786360Z"
    }
   },
   "outputs": [
    {
     "data": {
      "text/html": [
       "<div><i>Table length=1296</i>\n",
       "<table id=\"table140678215045952\" class=\"table-striped table-bordered table-condensed\">\n",
       "<thead><tr><th>column_name</th><th>datatype</th><th>description</th><th>unit</th></tr></thead>\n",
       "<thead><tr><th>object</th><th>object</th><th>object</th><th>object</th></tr></thead>\n",
       "<tr><td>coord_dec</td><td>double</td><td>Fiducial ICRS Declination of centroid used for database indexing</td><td>deg</td></tr>\n",
       "<tr><td>coord_decErr</td><td>float</td><td>Error in fiducial ICRS Declination of centroid</td><td>deg</td></tr>\n",
       "<tr><td>coord_ra</td><td>double</td><td>Fiducial ICRS Right Ascension of centroid used for database indexing</td><td>deg</td></tr>\n",
       "<tr><td>coord_ra_dec_Cov</td><td>float</td><td>Covariance between fiducial ICRS Right Ascension and Declination of centroid</td><td>deg**2</td></tr>\n",
       "<tr><td>coord_raErr</td><td>float</td><td>Error in fiducial ICRS Right Ascension of centroid</td><td>deg</td></tr>\n",
       "<tr><td>deblend_failed</td><td>boolean</td><td>Deblender failed to deblend this source</td><td></td></tr>\n",
       "<tr><td>deblend_incompleteData</td><td>boolean</td><td>One or more bands were not deblended due to an inability to model the PSF.</td><td></td></tr>\n",
       "<tr><td>deblend_isolatedParent</td><td>boolean</td><td>Deblender skipped this footprint because there was only a single peak</td><td></td></tr>\n",
       "<tr><td>deblend_iterations</td><td>int</td><td>Number of iterations during deblending</td><td></td></tr>\n",
       "<tr><td>...</td><td>...</td><td>...</td><td>...</td></tr>\n",
       "<tr><td>z_psfModel_TwoGaussian_n_iter</td><td>int</td><td>Number of iterations in the non-linear fit for the two-Gaussian PSF model (z-band).</td><td></td></tr>\n",
       "<tr><td>z_psfModel_TwoGaussian_no_inputs_flag</td><td>boolean</td><td>Flag set for objects not fit because there were no coadd PSF inputs for the two-Gaussian PSF model (z-band).</td><td></td></tr>\n",
       "<tr><td>z_psfModel_TwoGaussian_unknown_flag</td><td>boolean</td><td>Flag set for failures with an unexpected or unknown cause for the two-Gaussian PSF model (z-band).</td><td></td></tr>\n",
       "<tr><td>z_ra</td><td>double</td><td>Position in right ascension, measured on z-band.</td><td>deg</td></tr>\n",
       "<tr><td>z_ra_dec_Cov</td><td>float</td><td>Covariance between right ascension and declination, measured on z-band.</td><td>deg**2</td></tr>\n",
       "<tr><td>z_raErr</td><td>float</td><td>Error in right ascension, measured on z-band.</td><td>deg</td></tr>\n",
       "<tr><td>z_sersicFlux</td><td>float</td><td>z-band flux from the multiband Sersic model fit.</td><td>nJy</td></tr>\n",
       "<tr><td>z_sersicFluxErr</td><td>float</td><td>Error on the z-band flux from the multiband Sersic model fit.</td><td>nJy</td></tr>\n",
       "<tr><td>z_sizeExtendedness</td><td>float</td><td>Moments-based measure of whether an object is point-like (0) or extended (1). Measured on z-band.</td><td></td></tr>\n",
       "<tr><td>z_sizeExtendedness_flag</td><td>boolean</td><td>Flag set for any failure in the moments-based extendedness. Measured on z-band.</td><td></td></tr>\n",
       "</table></div>"
      ],
      "text/plain": [
       "<Table length=1296>\n",
       "             column_name              datatype ...  unit \n",
       "                object                 object  ... object\n",
       "------------------------------------- -------- ... ------\n",
       "                            coord_dec   double ...    deg\n",
       "                         coord_decErr    float ...    deg\n",
       "                             coord_ra   double ...    deg\n",
       "                     coord_ra_dec_Cov    float ... deg**2\n",
       "                          coord_raErr    float ...    deg\n",
       "                       deblend_failed  boolean ...       \n",
       "               deblend_incompleteData  boolean ...       \n",
       "               deblend_isolatedParent  boolean ...       \n",
       "                   deblend_iterations      int ...       \n",
       "                                  ...      ... ...    ...\n",
       "        z_psfModel_TwoGaussian_n_iter      int ...       \n",
       "z_psfModel_TwoGaussian_no_inputs_flag  boolean ...       \n",
       "  z_psfModel_TwoGaussian_unknown_flag  boolean ...       \n",
       "                                 z_ra   double ...    deg\n",
       "                         z_ra_dec_Cov    float ... deg**2\n",
       "                              z_raErr    float ...    deg\n",
       "                         z_sersicFlux    float ...    nJy\n",
       "                      z_sersicFluxErr    float ...    nJy\n",
       "                   z_sizeExtendedness    float ...       \n",
       "              z_sizeExtendedness_flag  boolean ...       "
      ]
     },
     "execution_count": 6,
     "metadata": {},
     "output_type": "execute_result"
    }
   ],
   "source": [
    "columns"
   ]
  },
  {
   "cell_type": "markdown",
   "id": "58eee264-79ff-4399-81b3-9c9286a261e3",
   "metadata": {},
   "source": [
    "#### Select boolean flag columns"
   ]
  },
  {
   "cell_type": "code",
   "execution_count": 17,
   "id": "0f63b705-1574-4d58-b62c-8c9d051498c7",
   "metadata": {
    "execution": {
     "iopub.execute_input": "2025-10-17T16:24:39.183542Z",
     "iopub.status.busy": "2025-10-17T16:24:39.183325Z",
     "iopub.status.idle": "2025-10-17T16:24:39.203238Z",
     "shell.execute_reply": "2025-10-17T16:24:39.202857Z",
     "shell.execute_reply.started": "2025-10-17T16:24:39.183526Z"
    }
   },
   "outputs": [
    {
     "data": {
      "text/html": [
       "<div><i>Table length=512</i>\n",
       "<table id=\"table140678189752560\" class=\"table-striped table-bordered table-condensed\">\n",
       "<thead><tr><th>column_name</th><th>datatype</th><th>description</th><th>unit</th></tr></thead>\n",
       "<thead><tr><th>object</th><th>object</th><th>object</th><th>object</th></tr></thead>\n",
       "<tr><td>deblend_failed</td><td>boolean</td><td>Deblender failed to deblend this source</td><td></td></tr>\n",
       "<tr><td>deblend_incompleteData</td><td>boolean</td><td>One or more bands were not deblended due to an inability to model the PSF.</td><td></td></tr>\n",
       "<tr><td>deblend_isolatedParent</td><td>boolean</td><td>Deblender skipped this footprint because there was only a single peak</td><td></td></tr>\n",
       "<tr><td>deblend_masked</td><td>boolean</td><td>Deblender skipped this source because there were too many masked pixels.</td><td></td></tr>\n",
       "<tr><td>deblend_parentTooBig</td><td>boolean</td><td>Deblender skipped this source because the parent footprint was too large.</td><td></td></tr>\n",
       "<tr><td>deblend_skipped</td><td>boolean</td><td>Deblender skipped this source</td><td></td></tr>\n",
       "<tr><td>deblend_tooManyPeaks</td><td>boolean</td><td>Deblender skipped this source because there were too many peaks in the Footprint.</td><td></td></tr>\n",
       "<tr><td>detect_fromBlend</td><td>boolean</td><td>This source is deblended from a parent with more than one child.</td><td></td></tr>\n",
       "<tr><td>detect_isDeblendedModelSource</td><td>boolean</td><td>True if source has no children and is in the inner region of a coadd patch and is in the inner region of a coadd tract and is not detected in a pseudo-filter (see config.pseudoFilterList) and is a deblended child</td><td></td></tr>\n",
       "<tr><td>...</td><td>...</td><td>...</td><td>...</td></tr>\n",
       "<tr><td>z_pixelFlags_sensor_edgeCenter</td><td>boolean</td><td>A detector boundary passed close to this object&apos;s center. Measured on z-band.</td><td></td></tr>\n",
       "<tr><td>z_pixelFlags_suspect</td><td>boolean</td><td>Deprecated; only set when there is no z-band data.</td><td></td></tr>\n",
       "<tr><td>z_pixelFlags_suspectCenter</td><td>boolean</td><td>Deprecated; only set when there is no z-band data.</td><td></td></tr>\n",
       "<tr><td>z_psfFlux_flag</td><td>boolean</td><td>General Failure Flag. Forced on z-band.</td><td></td></tr>\n",
       "<tr><td>z_psfFlux_flag_apCorr</td><td>boolean</td><td>Flag set if unable to aperture-correct the PSF flux. Forced on z-band.</td><td></td></tr>\n",
       "<tr><td>z_psfFlux_flag_edge</td><td>boolean</td><td>Object was too close to the edge of the image to use the full PSF model. Forced on z-band.</td><td></td></tr>\n",
       "<tr><td>z_psfFlux_flag_noGoodPixels</td><td>boolean</td><td>Not enough non-rejected pixels in data to attempt the fit. Forced on z-band.</td><td></td></tr>\n",
       "<tr><td>z_psfModel_TwoGaussian_no_inputs_flag</td><td>boolean</td><td>Flag set for objects not fit because there were no coadd PSF inputs for the two-Gaussian PSF model (z-band).</td><td></td></tr>\n",
       "<tr><td>z_psfModel_TwoGaussian_unknown_flag</td><td>boolean</td><td>Flag set for failures with an unexpected or unknown cause for the two-Gaussian PSF model (z-band).</td><td></td></tr>\n",
       "<tr><td>z_sizeExtendedness_flag</td><td>boolean</td><td>Flag set for any failure in the moments-based extendedness. Measured on z-band.</td><td></td></tr>\n",
       "</table></div>"
      ],
      "text/plain": [
       "<Table length=512>\n",
       "             column_name              datatype ...  unit \n",
       "                object                 object  ... object\n",
       "------------------------------------- -------- ... ------\n",
       "                       deblend_failed  boolean ...       \n",
       "               deblend_incompleteData  boolean ...       \n",
       "               deblend_isolatedParent  boolean ...       \n",
       "                       deblend_masked  boolean ...       \n",
       "                 deblend_parentTooBig  boolean ...       \n",
       "                      deblend_skipped  boolean ...       \n",
       "                 deblend_tooManyPeaks  boolean ...       \n",
       "                     detect_fromBlend  boolean ...       \n",
       "        detect_isDeblendedModelSource  boolean ...       \n",
       "                                  ...      ... ...    ...\n",
       "       z_pixelFlags_sensor_edgeCenter  boolean ...       \n",
       "                 z_pixelFlags_suspect  boolean ...       \n",
       "           z_pixelFlags_suspectCenter  boolean ...       \n",
       "                       z_psfFlux_flag  boolean ...       \n",
       "                z_psfFlux_flag_apCorr  boolean ...       \n",
       "                  z_psfFlux_flag_edge  boolean ...       \n",
       "          z_psfFlux_flag_noGoodPixels  boolean ...       \n",
       "z_psfModel_TwoGaussian_no_inputs_flag  boolean ...       \n",
       "  z_psfModel_TwoGaussian_unknown_flag  boolean ...       \n",
       "              z_sizeExtendedness_flag  boolean ...       "
      ]
     },
     "execution_count": 17,
     "metadata": {},
     "output_type": "execute_result"
    }
   ],
   "source": [
    "bool_flag = np.array(['boolean' in datatype for datatype in columns['datatype']])\n",
    "columns[bool_flag]"
   ]
  },
  {
   "cell_type": "markdown",
   "id": "336784b7-a854-48a0-a6f6-17bb818bbda5",
   "metadata": {},
   "source": [
    "We see that there are many flags, including flags related to the measurement of `psfFlux` (e.g., `z_psfFlux_flag`, `z_psfFlux_flag_apCorr`, `z_psfFLux_flag_edge`, and `z_psfFlux_flag_noGoodPixels`). Additionally, there are flags related to position and shape measurement, detection, deblending, and pixel values.\n",
    "\n",
    "#### Select coordinate columns (i.e., those with \"ra\" or \"dec\" in their names):\n",
    "\n",
    "RA, Dec coordinates are examples of two measurements that are jointly measured, and should thus have covariances. Confirm that the covariances are reported."
   ]
  },
  {
   "cell_type": "code",
   "execution_count": 41,
   "id": "8a69c58a-27f4-460f-a3b4-31f52d6cc809",
   "metadata": {
    "execution": {
     "iopub.execute_input": "2025-10-17T17:19:51.373700Z",
     "iopub.status.busy": "2025-10-17T17:19:51.373479Z",
     "iopub.status.idle": "2025-10-17T17:19:51.392220Z",
     "shell.execute_reply": "2025-10-17T17:19:51.391874Z",
     "shell.execute_reply.started": "2025-10-17T17:19:51.373683Z"
    }
   },
   "outputs": [
    {
     "data": {
      "text/html": [
       "<div><i>Table length=5</i>\n",
       "<table id=\"table140678173138320\" class=\"table-striped table-bordered table-condensed\">\n",
       "<thead><tr><th>column_name</th><th>datatype</th><th>description</th><th>unit</th></tr></thead>\n",
       "<thead><tr><th>object</th><th>object</th><th>object</th><th>object</th></tr></thead>\n",
       "<tr><td>coord_dec</td><td>double</td><td>Fiducial ICRS Declination of centroid used for database indexing</td><td>deg</td></tr>\n",
       "<tr><td>coord_decErr</td><td>float</td><td>Error in fiducial ICRS Declination of centroid</td><td>deg</td></tr>\n",
       "<tr><td>coord_ra</td><td>double</td><td>Fiducial ICRS Right Ascension of centroid used for database indexing</td><td>deg</td></tr>\n",
       "<tr><td>coord_ra_dec_Cov</td><td>float</td><td>Covariance between fiducial ICRS Right Ascension and Declination of centroid</td><td>deg**2</td></tr>\n",
       "<tr><td>coord_raErr</td><td>float</td><td>Error in fiducial ICRS Right Ascension of centroid</td><td>deg</td></tr>\n",
       "</table></div>"
      ],
      "text/plain": [
       "<Table length=5>\n",
       "  column_name    datatype ...  unit \n",
       "     object       object  ... object\n",
       "---------------- -------- ... ------\n",
       "       coord_dec   double ...    deg\n",
       "    coord_decErr    float ...    deg\n",
       "        coord_ra   double ...    deg\n",
       "coord_ra_dec_Cov    float ... deg**2\n",
       "     coord_raErr    float ...    deg"
      ]
     },
     "execution_count": 41,
     "metadata": {},
     "output_type": "execute_result"
    }
   ],
   "source": [
    "coo_flag = np.array(['coord' in colname for colname in columns['column_name']])\n",
    "coord_cols = (coo_flag)\n",
    "columns[coord_cols]"
   ]
  },
  {
   "cell_type": "markdown",
   "id": "74dcac99-b89d-4eb2-be31-6a0b739fe716",
   "metadata": {},
   "source": [
    "We see that the covariance is reported in the column `coord_ra_dec_Cov`.\n",
    "\n",
    "#### Select flux columns:\n",
    "\n",
    "We will use the flux columns to demonstrate that measured quantities report associated errors in addition to their maximum likelihood measurement."
   ]
  },
  {
   "cell_type": "code",
   "execution_count": 43,
   "id": "1ee15dad-52ac-41e3-8cc7-1e0ceb14926d",
   "metadata": {
    "execution": {
     "iopub.execute_input": "2025-10-17T17:22:22.664860Z",
     "iopub.status.busy": "2025-10-17T17:22:22.664637Z",
     "iopub.status.idle": "2025-10-17T17:22:22.684521Z",
     "shell.execute_reply": "2025-10-17T17:22:22.684217Z",
     "shell.execute_reply.started": "2025-10-17T17:22:22.664846Z"
    }
   },
   "outputs": [
    {
     "data": {
      "text/html": [
       "<div><i>Table length=138</i>\n",
       "<table id=\"table140678175734000\" class=\"table-striped table-bordered table-condensed\">\n",
       "<thead><tr><th>column_name</th><th>datatype</th><th>description</th><th>unit</th></tr></thead>\n",
       "<thead><tr><th>object</th><th>object</th><th>object</th><th>object</th></tr></thead>\n",
       "<tr><td>g_ap03Flux</td><td>float</td><td>Flux within 3.0-pixel aperture. Forced on g-band.</td><td>nJy</td></tr>\n",
       "<tr><td>g_ap06Flux</td><td>float</td><td>Flux within 6.0-pixel aperture. Forced on g-band.</td><td>nJy</td></tr>\n",
       "<tr><td>g_ap09Flux</td><td>float</td><td>Flux within 9.0-pixel aperture. Forced on g-band.</td><td>nJy</td></tr>\n",
       "<tr><td>g_ap12Flux</td><td>float</td><td>Flux within 12.0-pixel aperture. Forced on g-band.</td><td>nJy</td></tr>\n",
       "<tr><td>g_ap17Flux</td><td>float</td><td>Flux within 17.0-pixel aperture. Forced on g-band.</td><td>nJy</td></tr>\n",
       "<tr><td>g_ap25Flux</td><td>float</td><td>Flux within 25.0-pixel aperture. Forced on g-band.</td><td>nJy</td></tr>\n",
       "<tr><td>g_ap35Flux</td><td>float</td><td>Flux within 35.0-pixel aperture. Forced on g-band.</td><td>nJy</td></tr>\n",
       "<tr><td>g_ap50Flux</td><td>float</td><td>Flux within 50.0-pixel aperture. Forced on g-band.</td><td>nJy</td></tr>\n",
       "<tr><td>g_ap70Flux</td><td>float</td><td>Flux within 70.0-pixel aperture. Forced on g-band.</td><td>nJy</td></tr>\n",
       "<tr><td>...</td><td>...</td><td>...</td><td>...</td></tr>\n",
       "<tr><td>z_gaap0p7Flux</td><td>float</td><td>GAaP Flux with 0.7 arcsec aperture after reconvolving the image to a Gaussian PSF larger than the original by a factor of 1.15. Forced on z-band.</td><td>nJy</td></tr>\n",
       "<tr><td>z_gaap1p0Flux</td><td>float</td><td>GAaP Flux with 1.0 arcsec aperture after reconvolving the image to a Gaussian PSF larger than the original by a factor of 1.15. Forced on z-band.</td><td>nJy</td></tr>\n",
       "<tr><td>z_gaap1p5Flux</td><td>float</td><td>GAaP Flux with 1.5 arcsec aperture after reconvolving the image to a Gaussian PSF larger than the original by a factor of 1.15. Forced on z-band.</td><td>nJy</td></tr>\n",
       "<tr><td>z_gaap2p5Flux</td><td>float</td><td>GAaP Flux with 2.5 arcsec aperture after reconvolving the image to a Gaussian PSF larger than the original by a factor of 1.15. Forced on z-band.</td><td>nJy</td></tr>\n",
       "<tr><td>z_gaap3p0Flux</td><td>float</td><td>GAaP Flux with 3.0 arcsec aperture after reconvolving the image to a Gaussian PSF larger than the original by a factor of 1.15. Forced on z-band.</td><td>nJy</td></tr>\n",
       "<tr><td>z_gaapOptimalFlux</td><td>float</td><td>GAaP Flux with optimal aperture after reconvolving the image to a Gaussian PSF larger than the original by a factor of 1.15. Forced on z-band.</td><td>nJy</td></tr>\n",
       "<tr><td>z_gaapPsfFlux</td><td>float</td><td>GAaP Flux with PSF aperture after reconvolving the image to a Gaussian PSF larger than the original by a factor of 1.15. Forced on z-band.</td><td>nJy</td></tr>\n",
       "<tr><td>z_kronFlux</td><td>float</td><td>Flux measured within an elliptical aperture 2.5 times the Kron radius.  Measured on z-band.</td><td>nJy</td></tr>\n",
       "<tr><td>z_psfFlux</td><td>float</td><td>Flux derived from using the PSF model as a weight function. Forced on z-band.</td><td>nJy</td></tr>\n",
       "<tr><td>z_sersicFlux</td><td>float</td><td>z-band flux from the multiband Sersic model fit.</td><td>nJy</td></tr>\n",
       "</table></div>"
      ],
      "text/plain": [
       "<Table length=138>\n",
       "   column_name    datatype ...  unit \n",
       "      object       object  ... object\n",
       "----------------- -------- ... ------\n",
       "       g_ap03Flux    float ...    nJy\n",
       "       g_ap06Flux    float ...    nJy\n",
       "       g_ap09Flux    float ...    nJy\n",
       "       g_ap12Flux    float ...    nJy\n",
       "       g_ap17Flux    float ...    nJy\n",
       "       g_ap25Flux    float ...    nJy\n",
       "       g_ap35Flux    float ...    nJy\n",
       "       g_ap50Flux    float ...    nJy\n",
       "       g_ap70Flux    float ...    nJy\n",
       "              ...      ... ...    ...\n",
       "    z_gaap0p7Flux    float ...    nJy\n",
       "    z_gaap1p0Flux    float ...    nJy\n",
       "    z_gaap1p5Flux    float ...    nJy\n",
       "    z_gaap2p5Flux    float ...    nJy\n",
       "    z_gaap3p0Flux    float ...    nJy\n",
       "z_gaapOptimalFlux    float ...    nJy\n",
       "    z_gaapPsfFlux    float ...    nJy\n",
       "       z_kronFlux    float ...    nJy\n",
       "        z_psfFlux    float ...    nJy\n",
       "     z_sersicFlux    float ...    nJy"
      ]
     },
     "execution_count": 43,
     "metadata": {},
     "output_type": "execute_result"
    }
   ],
   "source": [
    "# flux_flag = np.array([('Flux' in colname)&('area' not in colname) for colname in columns['column_name']])\n",
    "flux_flag = np.array([str.endswith(colname, 'Flux') for colname in columns['column_name']])\n",
    "columns[flux_flag & ~bool_flag]"
   ]
  },
  {
   "cell_type": "markdown",
   "id": "3b655c76-d6f7-4b09-a843-018aedd97e94",
   "metadata": {},
   "source": [
    "#### Confirm that all flux columns have an associated error column:"
   ]
  },
  {
   "cell_type": "code",
   "execution_count": 44,
   "id": "bd445dd3-b74f-49e6-af6a-8b94598519b6",
   "metadata": {
    "execution": {
     "iopub.execute_input": "2025-10-17T17:23:11.973414Z",
     "iopub.status.busy": "2025-10-17T17:23:11.973194Z",
     "iopub.status.idle": "2025-10-17T17:23:11.992694Z",
     "shell.execute_reply": "2025-10-17T17:23:11.992347Z",
     "shell.execute_reply.started": "2025-10-17T17:23:11.973398Z"
    }
   },
   "outputs": [
    {
     "name": "stdout",
     "output_type": "stream",
     "text": [
      "All flux columns have associated errors.\n"
     ]
    }
   ],
   "source": [
    "fluxcolnames = []\n",
    "fluxerrcolnames = []\n",
    "\n",
    "for col in columns[flux_flag & ~bool_flag]['column_name']:\n",
    "    fluxcolnames.append(col)\n",
    "    if (col+'Err') in columns['column_name']:\n",
    "        fluxerrcolnames.append(col+'Err')\n",
    "    else:\n",
    "        fluxerrcolnames.append('None')\n",
    "\n",
    "nfluxcols_without_err = np.sum(np.array(fluxerrcolnames) == 'None')\n",
    "if nfluxcols_without_err == 0:\n",
    "    print('All flux columns have associated errors.')\n",
    "else:\n",
    "    print(f\"{nfluxcols_without_err} flux columns do not have associated errors.\")\n"
   ]
  },
  {
   "cell_type": "markdown",
   "id": "24e91152-7d0e-4e43-9f3e-58c211b07688",
   "metadata": {
    "execution": {
     "iopub.execute_input": "2025-10-17T16:53:16.748269Z",
     "iopub.status.busy": "2025-10-17T16:53:16.748006Z",
     "iopub.status.idle": "2025-10-17T16:53:16.751337Z",
     "shell.execute_reply": "2025-10-17T16:53:16.750970Z",
     "shell.execute_reply.started": "2025-10-17T16:53:16.748254Z"
    }
   },
   "source": [
    "#### Select model-fit columns\n",
    "\n",
    "The `multiProFit` model-fitting code outputs \"twoGaussian\" fits and multiband \"sersic\" fits. Select these and examine them to confirm that model chi-squared (goodness of fit) values are reported."
   ]
  },
  {
   "cell_type": "code",
   "execution_count": 52,
   "id": "b445b72c-ae6f-4221-b15e-88a5a1431d37",
   "metadata": {
    "execution": {
     "iopub.execute_input": "2025-10-17T17:27:06.570088Z",
     "iopub.status.busy": "2025-10-17T17:27:06.569746Z",
     "iopub.status.idle": "2025-10-17T17:27:06.615471Z",
     "shell.execute_reply": "2025-10-17T17:27:06.615109Z",
     "shell.execute_reply.started": "2025-10-17T17:27:06.570063Z"
    }
   },
   "outputs": [
    {
     "name": "stdout",
     "output_type": "stream",
     "text": [
      "All modelfit columns:\n",
      " ['g_psfModel_TwoGaussian_chisq_reduced'\n",
      " 'g_psfModel_TwoGaussian_gauss1_fluxfrac'\n",
      " 'g_psfModel_TwoGaussian_gauss1_rho'\n",
      " 'g_psfModel_TwoGaussian_gauss1_sigma_x'\n",
      " 'g_psfModel_TwoGaussian_gauss1_sigma_y'\n",
      " 'g_psfModel_TwoGaussian_gauss2_rho'\n",
      " 'g_psfModel_TwoGaussian_gauss2_sigma_x'\n",
      " 'g_psfModel_TwoGaussian_gauss2_sigma_y' 'g_psfModel_TwoGaussian_n_iter'\n",
      " 'g_psfModel_TwoGaussian_no_inputs_flag'\n",
      " 'g_psfModel_TwoGaussian_unknown_flag' 'g_sersicFlux' 'g_sersicFluxErr'\n",
      " 'i_psfModel_TwoGaussian_chisq_reduced'\n",
      " 'i_psfModel_TwoGaussian_gauss1_fluxfrac'\n",
      " 'i_psfModel_TwoGaussian_gauss1_rho'\n",
      " 'i_psfModel_TwoGaussian_gauss1_sigma_x'\n",
      " 'i_psfModel_TwoGaussian_gauss1_sigma_y'\n",
      " 'i_psfModel_TwoGaussian_gauss2_rho'\n",
      " 'i_psfModel_TwoGaussian_gauss2_sigma_x'\n",
      " 'i_psfModel_TwoGaussian_gauss2_sigma_y' 'i_psfModel_TwoGaussian_n_iter'\n",
      " 'i_psfModel_TwoGaussian_no_inputs_flag'\n",
      " 'i_psfModel_TwoGaussian_unknown_flag' 'i_sersicFlux' 'i_sersicFluxErr'\n",
      " 'r_psfModel_TwoGaussian_chisq_reduced'\n",
      " 'r_psfModel_TwoGaussian_gauss1_fluxfrac'\n",
      " 'r_psfModel_TwoGaussian_gauss1_rho'\n",
      " 'r_psfModel_TwoGaussian_gauss1_sigma_x'\n",
      " 'r_psfModel_TwoGaussian_gauss1_sigma_y'\n",
      " 'r_psfModel_TwoGaussian_gauss2_rho'\n",
      " 'r_psfModel_TwoGaussian_gauss2_sigma_x'\n",
      " 'r_psfModel_TwoGaussian_gauss2_sigma_y' 'r_psfModel_TwoGaussian_n_iter'\n",
      " 'r_psfModel_TwoGaussian_no_inputs_flag'\n",
      " 'r_psfModel_TwoGaussian_unknown_flag' 'r_sersicFlux' 'r_sersicFluxErr'\n",
      " 'sersic_chisq_reduced' 'sersic_dec' 'sersic_decErr' 'sersic_index'\n",
      " 'sersic_indexErr' 'sersic_n_eval_jac' 'sersic_n_iter'\n",
      " 'sersic_no_data_flag' 'sersic_ra' 'sersic_raErr' 'sersic_reff_x'\n",
      " 'sersic_reff_xErr' 'sersic_reff_y' 'sersic_reff_yErr' 'sersic_rho'\n",
      " 'sersic_rhoErr' 'sersic_unknown_flag' 'sersic_x' 'sersic_xErr' 'sersic_y'\n",
      " 'sersic_yErr' 'u_psfModel_TwoGaussian_chisq_reduced'\n",
      " 'u_psfModel_TwoGaussian_gauss1_fluxfrac'\n",
      " 'u_psfModel_TwoGaussian_gauss1_rho'\n",
      " 'u_psfModel_TwoGaussian_gauss1_sigma_x'\n",
      " 'u_psfModel_TwoGaussian_gauss1_sigma_y'\n",
      " 'u_psfModel_TwoGaussian_gauss2_rho'\n",
      " 'u_psfModel_TwoGaussian_gauss2_sigma_x'\n",
      " 'u_psfModel_TwoGaussian_gauss2_sigma_y' 'u_psfModel_TwoGaussian_n_iter'\n",
      " 'u_psfModel_TwoGaussian_no_inputs_flag'\n",
      " 'u_psfModel_TwoGaussian_unknown_flag' 'u_sersicFlux' 'u_sersicFluxErr'\n",
      " 'y_psfModel_TwoGaussian_chisq_reduced'\n",
      " 'y_psfModel_TwoGaussian_gauss1_fluxfrac'\n",
      " 'y_psfModel_TwoGaussian_gauss1_rho'\n",
      " 'y_psfModel_TwoGaussian_gauss1_sigma_x'\n",
      " 'y_psfModel_TwoGaussian_gauss1_sigma_y'\n",
      " 'y_psfModel_TwoGaussian_gauss2_rho'\n",
      " 'y_psfModel_TwoGaussian_gauss2_sigma_x'\n",
      " 'y_psfModel_TwoGaussian_gauss2_sigma_y' 'y_psfModel_TwoGaussian_n_iter'\n",
      " 'y_psfModel_TwoGaussian_no_inputs_flag'\n",
      " 'y_psfModel_TwoGaussian_unknown_flag' 'y_sersicFlux' 'y_sersicFluxErr'\n",
      " 'z_psfModel_TwoGaussian_chisq_reduced'\n",
      " 'z_psfModel_TwoGaussian_gauss1_fluxfrac'\n",
      " 'z_psfModel_TwoGaussian_gauss1_rho'\n",
      " 'z_psfModel_TwoGaussian_gauss1_sigma_x'\n",
      " 'z_psfModel_TwoGaussian_gauss1_sigma_y'\n",
      " 'z_psfModel_TwoGaussian_gauss2_rho'\n",
      " 'z_psfModel_TwoGaussian_gauss2_sigma_x'\n",
      " 'z_psfModel_TwoGaussian_gauss2_sigma_y' 'z_psfModel_TwoGaussian_n_iter'\n",
      " 'z_psfModel_TwoGaussian_no_inputs_flag'\n",
      " 'z_psfModel_TwoGaussian_unknown_flag' 'z_sersicFlux' 'z_sersicFluxErr']\n",
      "\n",
      "\n",
      "\n",
      "Modelfit chi-squared columns:\n",
      " ['g_psfModel_TwoGaussian_chisq_reduced'\n",
      " 'i_psfModel_TwoGaussian_chisq_reduced'\n",
      " 'r_psfModel_TwoGaussian_chisq_reduced' 'sersic_chisq_reduced'\n",
      " 'u_psfModel_TwoGaussian_chisq_reduced'\n",
      " 'y_psfModel_TwoGaussian_chisq_reduced'\n",
      " 'z_psfModel_TwoGaussian_chisq_reduced']\n"
     ]
    }
   ],
   "source": [
    "twogauss_flag = np.array(['TwoGaussian' in colname for colname in columns['column_name']])\n",
    "sersic_flag = np.array(['ersic' in colname for colname in columns['column_name']])\n",
    "chisq_flag = np.array(['chisq' in colname for colname in columns['column_name']])\n",
    "modelfit_cols = (twogauss_flag | sersic_flag)\n",
    "print('All modelfit columns:\\n', columns[modelfit_cols]['column_name'].value)\n",
    "print('\\n\\n')\n",
    "chisq_modelfit_cols = (twogauss_flag | sersic_flag) & chisq_flag\n",
    "print('Modelfit chi-squared columns:\\n', columns[chisq_modelfit_cols]['column_name'].value)"
   ]
  },
  {
   "cell_type": "markdown",
   "id": "72361cbf-ed31-496f-9c5a-3bd16772d774",
   "metadata": {
    "execution": {
     "iopub.execute_input": "2025-10-17T17:26:34.157006Z",
     "iopub.status.busy": "2025-10-17T17:26:34.156705Z",
     "iopub.status.idle": "2025-10-17T17:26:34.161015Z",
     "shell.execute_reply": "2025-10-17T17:26:34.160632Z",
     "shell.execute_reply.started": "2025-10-17T17:26:34.156979Z"
    }
   },
   "source": [
    "We see that each of the model-fitting outputs has an associated chi-squared column."
   ]
  },
  {
   "cell_type": "markdown",
   "id": "7fcb6d07-9001-495b-badb-20169782b249",
   "metadata": {},
   "source": [
    "### Results:\n",
    "\n",
    "We have demonstrated that the DP1 `Object` table contains maximum likelihood values and their associated errors for all measured quantities. We have also shown that jointly-measured quantities report covariances, and that model-fit measurements report goodness of fit.\n",
    "\n",
    "While we have only demonstrated this for the `Object` table, we take it as representative of measurement algorithm outputs for all methods in the Science Pipelines. With this assumption, we deem that the result of this test is a **Pass**."
   ]
  },
  {
   "cell_type": "code",
   "execution_count": null,
   "id": "73b2826c-cf63-46ad-8902-a3b2ddbf2048",
   "metadata": {},
   "outputs": [],
   "source": []
  }
 ],
 "metadata": {
  "kernelspec": {
   "display_name": "LSST",
   "language": "python",
   "name": "lsst"
  },
  "language_info": {
   "codemirror_mode": {
    "name": "ipython",
    "version": 3
   },
   "file_extension": ".py",
   "mimetype": "text/x-python",
   "name": "python",
   "nbconvert_exporter": "python",
   "pygments_lexer": "ipython3",
   "version": "3.12.11"
  }
 },
 "nbformat": 4,
 "nbformat_minor": 5
}
