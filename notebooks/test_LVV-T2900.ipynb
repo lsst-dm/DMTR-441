{
 "cells": [
  {
   "cell_type": "markdown",
   "id": "691d56d9-6415-4e51-bf43-00ba275176a8",
   "metadata": {
    "editable": true,
    "execution": {
     "iopub.execute_input": "2025-08-21T22:57:29.615439Z",
     "iopub.status.busy": "2025-08-21T22:57:29.615075Z",
     "iopub.status.idle": "2025-08-21T22:57:29.618589Z",
     "shell.execute_reply": "2025-08-21T22:57:29.618100Z",
     "shell.execute_reply.started": "2025-08-21T22:57:29.615422Z"
    },
    "slideshow": {
     "slide_type": ""
    },
    "tags": []
   },
   "source": [
    "### Test case LVV-T2900 - Verify implementation of maximum time to retrieve single-CCD, single visit PVI image\n",
    "DMS-REQ-0374-V-01: Max time to retrieve single-CCD coadd cutout image<br>\n",
    "DMS-REQ-0374-V-02: Satisfies the additional constraint on the number of simultaneous users. \n",
    "\n",
    "\n",
    "### Specification: \n",
    "A Processed Visit Image of a single CCD shall be retrievable using the VO SIAv2\n",
    "protocol within pviRetrievalTime with pviRetrievalUsers simultaneous requests for distinct\n",
    "single-CCD PVIs. PVIs of a single CCD image shall be retrievable in a maximum time of pviRetrievalTime = 10 seconds.\n",
    "\n",
    "### Requirement Parameter\n",
    "pviRetrievalTime = 10[second] Maximum time allowed for retrieving a PVI image of a single CCD from a single visit <br>\n",
    "pviRetrievalUsers = 20[integer] Minimum number of simultaneous users retrieving a single PVI image."
   ]
  },
  {
   "cell_type": "code",
   "execution_count": 1,
   "id": "7c788f0b-2916-4f94-9a85-45aab541ec2c",
   "metadata": {
    "execution": {
     "iopub.execute_input": "2025-10-20T21:30:43.116828Z",
     "iopub.status.busy": "2025-10-20T21:30:43.116604Z",
     "iopub.status.idle": "2025-10-20T21:30:43.741063Z",
     "shell.execute_reply": "2025-10-20T21:30:43.740036Z",
     "shell.execute_reply.started": "2025-10-20T21:30:43.116806Z"
    }
   },
   "outputs": [],
   "source": [
    "import math\n",
    "\n",
    "from lsst.rsp.utils import get_pyvo_auth\n",
    "from lsst.rsp.service import get_siav2_service\n",
    "\n",
    "from lsst.afw.image import ExposureF \n",
    "import lsst.afw.display as afwDisplay\n",
    "import matplotlib.pyplot as plt\n",
    "\n",
    "\n",
    "from pyvo.dal.adhoc import DatalinkResults\n",
    "from astropy import units as u\n",
    "from astropy.time import Time\n",
    "from astropy.coordinates import SkyCoord\n",
    "\n",
    "import time"
   ]
  },
  {
   "cell_type": "code",
   "execution_count": 2,
   "id": "a892a298-8e46-44ad-a43d-9461daf8e55f",
   "metadata": {
    "execution": {
     "iopub.execute_input": "2025-10-20T21:30:43.742047Z",
     "iopub.status.busy": "2025-10-20T21:30:43.741622Z",
     "iopub.status.idle": "2025-10-20T21:30:43.769437Z",
     "shell.execute_reply": "2025-10-20T21:30:43.768439Z",
     "shell.execute_reply.started": "2025-10-20T21:30:43.742025Z"
    }
   },
   "outputs": [],
   "source": [
    "afwDisplay.setDefaultBackend('matplotlib')\n",
    "plt.style.use('tableau-colorblind10')\n",
    "%matplotlib inline"
   ]
  },
  {
   "cell_type": "markdown",
   "id": "287d9f38-4a20-4856-832f-f1e00aeb29a7",
   "metadata": {},
   "source": [
    "### Requirement Specs"
   ]
  },
  {
   "cell_type": "code",
   "execution_count": 3,
   "id": "c1c5b112-f5ea-42c2-9811-0d55dc90a9c4",
   "metadata": {
    "execution": {
     "iopub.execute_input": "2025-10-20T21:30:43.770325Z",
     "iopub.status.busy": "2025-10-20T21:30:43.770111Z",
     "iopub.status.idle": "2025-10-20T21:30:43.773421Z",
     "shell.execute_reply": "2025-10-20T21:30:43.772625Z",
     "shell.execute_reply.started": "2025-10-20T21:30:43.770308Z"
    }
   },
   "outputs": [],
   "source": [
    "# Maximum time allowed for retrieving a CCD-sized coadd cutout., \n",
    "pviRetrievalTime = 10  # seconds\n",
    "\n",
    "# Minimum number of simultaneous users retrieving a single CCD-sized coadd cutout.\n",
    "pviRetrievalUsers = 20 "
   ]
  },
  {
   "cell_type": "code",
   "execution_count": 4,
   "id": "1dd1337c-f109-4201-86cb-70c35ebcf3f5",
   "metadata": {
    "execution": {
     "iopub.execute_input": "2025-10-20T21:30:43.774221Z",
     "iopub.status.busy": "2025-10-20T21:30:43.774018Z",
     "iopub.status.idle": "2025-10-20T21:30:43.924856Z",
     "shell.execute_reply": "2025-10-20T21:30:43.923914Z",
     "shell.execute_reply.started": "2025-10-20T21:30:43.774200Z"
    }
   },
   "outputs": [
    {
     "ename": "NameError",
     "evalue": "name 'math' is not defined",
     "output_type": "error",
     "traceback": [
      "\u001b[31m---------------------------------------------------------------------------\u001b[39m",
      "\u001b[31mNameError\u001b[39m                                 Traceback (most recent call last)",
      "\u001b[36mCell\u001b[39m\u001b[36m \u001b[39m\u001b[32mIn[4]\u001b[39m\u001b[32m, line 9\u001b[39m\n\u001b[32m      7\u001b[39m ccd_size_deg = pixels * pixel_scale_deg \n\u001b[32m      8\u001b[39m ccd_area_deg2 = ccd_size_deg ** \u001b[32m2\u001b[39m\n\u001b[32m----> \u001b[39m\u001b[32m9\u001b[39m circle_radius_deg = \u001b[43mmath\u001b[49m.sqrt(ccd_area_deg2 / math.pi)\n\u001b[32m     11\u001b[39m \u001b[38;5;28mprint\u001b[39m(\u001b[33mf\u001b[39m\u001b[33m\"\u001b[39m\u001b[33mCCD angular size: \u001b[39m\u001b[38;5;132;01m{\u001b[39;00mccd_size_deg\u001b[38;5;132;01m:\u001b[39;00m\u001b[33m.2f\u001b[39m\u001b[38;5;132;01m}\u001b[39;00m\u001b[33m° × \u001b[39m\u001b[38;5;132;01m{\u001b[39;00mccd_size_deg\u001b[38;5;132;01m:\u001b[39;00m\u001b[33m.2f\u001b[39m\u001b[38;5;132;01m}\u001b[39;00m\u001b[33m°\u001b[39m\u001b[33m\"\u001b[39m)\n\u001b[32m     12\u001b[39m \u001b[38;5;28mprint\u001b[39m(\u001b[33mf\u001b[39m\u001b[33m\"\u001b[39m\u001b[33mCCD area: \u001b[39m\u001b[38;5;132;01m{\u001b[39;00mccd_area_deg2\u001b[38;5;132;01m:\u001b[39;00m\u001b[33m.2f\u001b[39m\u001b[38;5;132;01m}\u001b[39;00m\u001b[33m deg²\u001b[39m\u001b[33m\"\u001b[39m)\n",
      "\u001b[31mNameError\u001b[39m: name 'math' is not defined"
     ]
    }
   ],
   "source": [
    "# CCD-sized cutout  \n",
    "pixels = 4000          #  4kx4k pixels / CCD\n",
    "pixel_scale_arcsec = 0.2  # arcsec/pixel\n",
    "pixel_scale_deg = pixel_scale_arcsec / 3600 \n",
    "\n",
    "# CCD size in degrees\n",
    "ccd_size_deg = pixels * pixel_scale_deg \n",
    "ccd_area_deg2 = ccd_size_deg ** 2\n",
    "circle_radius_deg = math.sqrt(ccd_area_deg2 / math.pi)\n",
    "\n",
    "print(f\"CCD angular size: {ccd_size_deg:.2f}° × {ccd_size_deg:.2f}°\")\n",
    "print(f\"CCD area: {ccd_area_deg2:.2f} deg²\")\n",
    "print(f\"Equivalent circular radius: {circle_radius_deg:.6f}°\")"
   ]
  },
  {
   "cell_type": "markdown",
   "id": "947937a4-6ff7-4ca7-9bc2-3546b8e8e26d",
   "metadata": {},
   "source": [
    "### Setup services and functions"
   ]
  },
  {
   "cell_type": "code",
   "execution_count": null,
   "id": "9342434c-0620-4d80-989a-a15ea1c0b35c",
   "metadata": {
    "execution": {
     "iopub.status.busy": "2025-10-20T21:30:43.925305Z",
     "iopub.status.idle": "2025-10-20T21:30:43.925616Z",
     "shell.execute_reply": "2025-10-20T21:30:43.925426Z",
     "shell.execute_reply.started": "2025-10-20T21:30:43.925416Z"
    }
   },
   "outputs": [],
   "source": [
    "sia_service = get_siav2_service(\"dp1\")\n",
    "assert sia_service is not None"
   ]
  },
  {
   "cell_type": "markdown",
   "id": "c2ab4713-13c3-4842-b227-0b92c2324f60",
   "metadata": {},
   "source": [
    "### Generate an image cutout \n",
    "Use a DP1 r band image in the ECDFS field for a visit image that was obtained between MJD 60623.256 and 60623.259."
   ]
  },
  {
   "cell_type": "code",
   "execution_count": null,
   "id": "684793ec-e61b-4a99-8c05-4aafa9ba9283",
   "metadata": {
    "execution": {
     "iopub.status.busy": "2025-10-20T21:30:43.926136Z",
     "iopub.status.idle": "2025-10-20T21:30:43.926363Z",
     "shell.execute_reply": "2025-10-20T21:30:43.926257Z",
     "shell.execute_reply.started": "2025-10-20T21:30:43.926248Z"
    }
   },
   "outputs": [],
   "source": [
    "# Sample region\n",
    "ra_center = 53.0142245373055\n",
    "dec_center = -27.91704870900402\n",
    "lsst_band = 'r'\n",
    "lsst_visit = 2024120500122\n",
    "lsst_detector = 5\n",
    "\n",
    "coords = SkyCoord(ra_center, dec_center, \n",
    "                  unit=(u.deg, u.deg))\n",
    "\n",
    "t1 = Time(\"60650.23384915526\", format='mjd')\n",
    "t2 = Time(\"60650.23420150463\", format='mjd')"
   ]
  },
  {
   "cell_type": "code",
   "execution_count": null,
   "id": "dd7d3fa1-191b-4813-b129-226af0cd8ed4",
   "metadata": {
    "execution": {
     "iopub.status.busy": "2025-10-20T21:30:43.926627Z",
     "iopub.status.idle": "2025-10-20T21:30:43.926850Z",
     "shell.execute_reply": "2025-10-20T21:30:43.926727Z",
     "shell.execute_reply.started": "2025-10-20T21:30:43.926708Z"
    }
   },
   "outputs": [],
   "source": [
    "results = sia_service.search(\n",
    "    pos=(coords, 0.1*u.deg),\n",
    "    calib_level=2,\n",
    "    time=[t1, t2]\n",
    ").to_table()"
   ]
  },
  {
   "cell_type": "code",
   "execution_count": null,
   "id": "ad187018-f56b-4281-9bd1-e31ca4676711",
   "metadata": {
    "execution": {
     "iopub.status.busy": "2025-10-20T21:30:43.927198Z",
     "iopub.status.idle": "2025-10-20T21:30:43.927438Z",
     "shell.execute_reply": "2025-10-20T21:30:43.927290Z",
     "shell.execute_reply.started": "2025-10-20T21:30:43.927284Z"
    }
   },
   "outputs": [],
   "source": [
    "datalink_url = results[0].get('access_url')\n",
    "dl_result = DatalinkResults.from_result_url(datalink_url,\n",
    "                                            session=get_pyvo_auth())\n",
    "image_url = dl_result.getrecord(0).get('access_url')\n",
    "print(f\"Image URL: {image_url}\")"
   ]
  },
  {
   "cell_type": "markdown",
   "id": "e7a2524f-f276-49d6-8962-4a7c52360f96",
   "metadata": {},
   "source": [
    "### Record the time to retrieve one single-CCD, single visit PVI image via image services\n",
    "This is the code that needs to be scale tested for ccdRetrievalUsers (20) simultaneous users"
   ]
  },
  {
   "cell_type": "code",
   "execution_count": null,
   "id": "947d8604-0bd6-4cb3-b0d6-a0eba54b27d7",
   "metadata": {
    "execution": {
     "iopub.status.busy": "2025-10-20T21:30:43.928069Z",
     "iopub.status.idle": "2025-10-20T21:30:43.928243Z",
     "shell.execute_reply": "2025-10-20T21:30:43.928157Z",
     "shell.execute_reply.started": "2025-10-20T21:30:43.928150Z"
    }
   },
   "outputs": [],
   "source": [
    "# This is the cell that needs to be benchmarked  for ccdRetrievalUsers (20) simultaneous users\n",
    "start = time.time()\n",
    "visit_image = ExposureF(image_url)\n",
    "end = time.time()"
   ]
  },
  {
   "cell_type": "code",
   "execution_count": null,
   "id": "f55ca72d-face-4fb8-86de-4fb1f10b4b73",
   "metadata": {
    "execution": {
     "iopub.status.busy": "2025-10-20T21:30:43.928526Z",
     "iopub.status.idle": "2025-10-20T21:30:43.928682Z",
     "shell.execute_reply": "2025-10-20T21:30:43.928608Z",
     "shell.execute_reply.started": "2025-10-20T21:30:43.928601Z"
    }
   },
   "outputs": [],
   "source": [
    "elapsed = end - start\n",
    "print(f\"Elapsed time: {elapsed:.4f} seconds\")\n",
    "assert elapsed < pviRetrievalTime"
   ]
  },
  {
   "cell_type": "code",
   "execution_count": null,
   "id": "0447fa60-c7e2-45f1-9748-167b5db14913",
   "metadata": {
    "execution": {
     "iopub.status.busy": "2025-10-20T21:30:43.928945Z",
     "iopub.status.idle": "2025-10-20T21:30:43.929190Z",
     "shell.execute_reply": "2025-10-20T21:30:43.929024Z",
     "shell.execute_reply.started": "2025-10-20T21:30:43.929018Z"
    }
   },
   "outputs": [],
   "source": [
    "# Plot image \n",
    "fig = plt.figure()\n",
    "display = afwDisplay.Display(frame=fig)\n",
    "display.scale('asinh', 'zscale')\n",
    "display.mtv(visit_image.image)\n",
    "plt.show()"
   ]
  }
 ],
 "metadata": {
  "kernelspec": {
   "display_name": "LSST",
   "language": "python",
   "name": "lsst"
  },
  "language_info": {
   "codemirror_mode": {
    "name": "ipython",
    "version": 3
   },
   "file_extension": ".py",
   "mimetype": "text/x-python",
   "name": "python",
   "nbconvert_exporter": "python",
   "pygments_lexer": "ipython3",
   "version": "3.13.8"
  }
 },
 "nbformat": 4,
 "nbformat_minor": 5
}
