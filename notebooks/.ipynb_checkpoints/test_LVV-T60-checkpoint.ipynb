{
 "cells": [
  {
   "cell_type": "code",
   "execution_count": 1,
   "id": "51eb77ca-bdec-4264-8057-2f5bed79cf2e",
   "metadata": {
    "execution": {
     "iopub.execute_input": "2025-04-22T19:16:55.424557Z",
     "iopub.status.busy": "2025-04-22T19:16:55.424269Z",
     "iopub.status.idle": "2025-04-22T19:16:55.782001Z",
     "shell.execute_reply": "2025-04-22T19:16:55.781486Z",
     "shell.execute_reply.started": "2025-04-22T19:16:55.424539Z"
    }
   },
   "outputs": [],
   "source": [
    "import os\n",
    "import requests\n",
    "import pandas as pd"
   ]
  },
  {
   "cell_type": "code",
   "execution_count": 2,
   "id": "6366192e-599a-4127-82e6-c716bd3c8b40",
   "metadata": {
    "execution": {
     "iopub.execute_input": "2025-04-22T19:16:55.782962Z",
     "iopub.status.busy": "2025-04-22T19:16:55.782664Z",
     "iopub.status.idle": "2025-04-22T19:16:55.785286Z",
     "shell.execute_reply": "2025-04-22T19:16:55.784825Z",
     "shell.execute_reply.started": "2025-04-22T19:16:55.782945Z"
    }
   },
   "outputs": [],
   "source": [
    "# URL for the service\n",
    "obsloctap_url = \"https://usdf-rsp-dev.slac.stanford.edu/obsloctap\""
   ]
  },
  {
   "cell_type": "code",
   "execution_count": 3,
   "id": "64f70fae-6d47-40b2-b7c5-9f1387da9264",
   "metadata": {
    "execution": {
     "iopub.execute_input": "2025-04-22T19:16:55.786144Z",
     "iopub.status.busy": "2025-04-22T19:16:55.785916Z",
     "iopub.status.idle": "2025-04-22T19:16:55.830294Z",
     "shell.execute_reply": "2025-04-22T19:16:55.829829Z",
     "shell.execute_reply.started": "2025-04-22T19:16:55.786124Z"
    }
   },
   "outputs": [],
   "source": [
    "response = requests.get(obsloctap_url)\n",
    "assert response.status_code == 200, f\"request failed with status {response.status_code}\""
   ]
  },
  {
   "cell_type": "code",
   "execution_count": 4,
   "id": "9b417821-006e-4c9a-b2a6-acb756a23e72",
   "metadata": {
    "execution": {
     "iopub.execute_input": "2025-04-22T19:16:55.832101Z",
     "iopub.status.busy": "2025-04-22T19:16:55.831766Z",
     "iopub.status.idle": "2025-04-22T19:16:55.834389Z",
     "shell.execute_reply": "2025-04-22T19:16:55.833998Z",
     "shell.execute_reply.started": "2025-04-22T19:16:55.832084Z"
    }
   },
   "outputs": [],
   "source": [
    "# Look at the header information\n",
    "data = response.json()\n",
    "assert data is not None"
   ]
  },
  {
   "cell_type": "code",
   "execution_count": 5,
   "id": "d5d2772a-d980-495d-9e82-ac1e54247ba6",
   "metadata": {
    "execution": {
     "iopub.execute_input": "2025-04-22T19:16:55.834954Z",
     "iopub.status.busy": "2025-04-22T19:16:55.834817Z",
     "iopub.status.idle": "2025-04-22T19:16:55.842872Z",
     "shell.execute_reply": "2025-04-22T19:16:55.842480Z",
     "shell.execute_reply.started": "2025-04-22T19:16:55.834940Z"
    }
   },
   "outputs": [
    {
     "name": "stdout",
     "output_type": "stream",
     "text": [
      "dict_keys(['name', 'version', 'description', 'repository_url', 'documentation_url'])\n",
      "ObsLocTap service running at USDF for Look at scheduler forecast and track what was observed with documentation at  url https://obsloctap.lsst.io\n"
     ]
    }
   ],
   "source": [
    "# Extract information\n",
    "md = data[\"metadata\"]\n",
    "print(md.keys())\n",
    "print(f\"ObsLocTap service running at USDF for {md.get(\"description\")} with documentation at  url {md.get(\"documentation_url\")}\")"
   ]
  },
  {
   "cell_type": "code",
   "execution_count": 6,
   "id": "44410b2e-5d25-41fc-8862-40e7162a1866",
   "metadata": {
    "execution": {
     "iopub.execute_input": "2025-04-22T19:16:55.843485Z",
     "iopub.status.busy": "2025-04-22T19:16:55.843347Z",
     "iopub.status.idle": "2025-04-22T19:16:55.858326Z",
     "shell.execute_reply": "2025-04-22T19:16:55.857949Z",
     "shell.execute_reply.started": "2025-04-22T19:16:55.843471Z"
    }
   },
   "outputs": [],
   "source": [
    "# URL for schedule forecast\n",
    "schedule_url = obsloctap_url + \"/schedule\" \n",
    "assert schedule_url == \"https://usdf-rsp-dev.slac.stanford.edu/obsloctap/schedule\""
   ]
  },
  {
   "cell_type": "code",
   "execution_count": 7,
   "id": "905abe2b-6508-4ae2-828c-79d7d7f30e00",
   "metadata": {
    "execution": {
     "iopub.execute_input": "2025-04-22T19:16:55.858892Z",
     "iopub.status.busy": "2025-04-22T19:16:55.858761Z",
     "iopub.status.idle": "2025-04-22T19:16:55.929944Z",
     "shell.execute_reply": "2025-04-22T19:16:55.929522Z",
     "shell.execute_reply.started": "2025-04-22T19:16:55.858878Z"
    }
   },
   "outputs": [],
   "source": [
    "# Get the  entries over the last 24 hours (currently returns the top 1000) \n",
    "# Default behaviour\n",
    "response = requests.get(schedule_url)\n",
    "assert response.url == \"https://usdf-rsp-dev.slac.stanford.edu/obsloctap/schedule\"\n",
    "assert response.status_code == 200, f\"request failed with status {response.status_code}\""
   ]
  },
  {
   "cell_type": "code",
   "execution_count": 8,
   "id": "6d45573f-45b9-4c1e-bc0f-1d1ed7dc583a",
   "metadata": {
    "execution": {
     "iopub.execute_input": "2025-04-22T19:16:55.930732Z",
     "iopub.status.busy": "2025-04-22T19:16:55.930443Z",
     "iopub.status.idle": "2025-04-22T19:16:56.098634Z",
     "shell.execute_reply": "2025-04-22T19:16:56.098071Z",
     "shell.execute_reply.started": "2025-04-22T19:16:55.930716Z"
    }
   },
   "outputs": [
    {
     "ename": "NameError",
     "evalue": "name 'schedule_data' is not defined",
     "output_type": "error",
     "traceback": [
      "\u001b[0;31m---------------------------------------------------------------------------\u001b[0m",
      "\u001b[0;31mNameError\u001b[0m                                 Traceback (most recent call last)",
      "Cell \u001b[0;32mIn[8], line 3\u001b[0m\n\u001b[1;32m      1\u001b[0m \u001b[38;5;66;03m# last 24hrs of scheduled observations\u001b[39;00m\n\u001b[1;32m      2\u001b[0m schedule_data_24 \u001b[38;5;241m=\u001b[39m response\u001b[38;5;241m.\u001b[39mjson()\n\u001b[0;32m----> 3\u001b[0m \u001b[38;5;28mlen\u001b[39m(\u001b[43mschedule_data\u001b[49m)\n",
      "\u001b[0;31mNameError\u001b[0m: name 'schedule_data' is not defined"
     ]
    }
   ],
   "source": [
    "# last 24hrs of scheduled observations\n",
    "schedule_data_24 = response.json()\n",
    "len(schedule_data_24)"
   ]
  },
  {
   "cell_type": "code",
   "execution_count": null,
   "id": "53c65714-ee45-4dcd-85e2-aa3600d3ec37",
   "metadata": {
    "execution": {
     "iopub.status.busy": "2025-04-22T19:16:56.099000Z",
     "iopub.status.idle": "2025-04-22T19:16:56.099191Z",
     "shell.execute_reply": "2025-04-22T19:16:56.099096Z",
     "shell.execute_reply.started": "2025-04-22T19:16:56.099087Z"
    }
   },
   "outputs": [],
   "source": [
    "# Parameter for look forward time (next visit). Units is hours\n",
    "# not yet implemented\n",
    "# Look forward 1 hour\n",
    "params = {\n",
    "    \"time\": \"1\"\n",
    "}"
   ]
  },
  {
   "cell_type": "code",
   "execution_count": null,
   "id": "8498193b-abb4-4248-96b9-6ee2a4d2bd64",
   "metadata": {
    "execution": {
     "iopub.status.busy": "2025-04-22T19:16:56.099965Z",
     "iopub.status.idle": "2025-04-22T19:16:56.100160Z",
     "shell.execute_reply": "2025-04-22T19:16:56.100068Z",
     "shell.execute_reply.started": "2025-04-22T19:16:56.100059Z"
    }
   },
   "outputs": [],
   "source": [
    "# Look forward of the next hour (params)\n",
    "response = requests.get(schedule_url, params=params)\n",
    "assert response.url == \"https://usdf-rsp-dev.slac.stanford.edu/obsloctap/schedule?time=1\"\n",
    "assert response.status_code == 200, f\"request failed with status {response.status_code}\""
   ]
  },
  {
   "cell_type": "code",
   "execution_count": null,
   "id": "ec9fb48b-2541-4270-a706-bb0a5c381054",
   "metadata": {
    "execution": {
     "iopub.status.busy": "2025-04-22T19:16:56.100622Z",
     "iopub.status.idle": "2025-04-22T19:16:56.100792Z",
     "shell.execute_reply": "2025-04-22T19:16:56.100710Z",
     "shell.execute_reply.started": "2025-04-22T19:16:56.100703Z"
    }
   },
   "outputs": [],
   "source": [
    "next_visits = response.json()\n",
    "len(next_visits)"
   ]
  },
  {
   "cell_type": "code",
   "execution_count": null,
   "id": "33ae16dd-76c9-4c0e-8b3c-548807bf68fc",
   "metadata": {
    "execution": {
     "iopub.status.busy": "2025-04-22T19:16:56.101392Z",
     "iopub.status.idle": "2025-04-22T19:16:56.101562Z",
     "shell.execute_reply": "2025-04-22T19:16:56.101482Z",
     "shell.execute_reply.started": "2025-04-22T19:16:56.101475Z"
    }
   },
   "outputs": [],
   "source": [
    "# Keys \n",
    "next_visits[0].keys()"
   ]
  },
  {
   "cell_type": "code",
   "execution_count": null,
   "id": "8946d762-7776-4c27-ba25-b1f3c9b7af28",
   "metadata": {
    "execution": {
     "iopub.status.busy": "2025-04-22T19:16:56.102069Z",
     "iopub.status.idle": "2025-04-22T19:16:56.102229Z",
     "shell.execute_reply": "2025-04-22T19:16:56.102152Z",
     "shell.execute_reply.started": "2025-04-22T19:16:56.102144Z"
    }
   },
   "outputs": [],
   "source": [
    "# Convert to pandas for analysis\n",
    "next_visits_df = pd.DataFrame(next_visits)\n",
    "next_visits_df"
   ]
  },
  {
   "cell_type": "code",
   "execution_count": null,
   "id": "548dc6fe-8902-4462-a17c-b0859b9bca12",
   "metadata": {},
   "outputs": [],
   "source": []
  }
 ],
 "metadata": {
  "kernelspec": {
   "display_name": "LSST",
   "language": "python",
   "name": "lsst"
  },
  "language_info": {
   "codemirror_mode": {
    "name": "ipython",
    "version": 3
   },
   "file_extension": ".py",
   "mimetype": "text/x-python",
   "name": "python",
   "nbconvert_exporter": "python",
   "pygments_lexer": "ipython3",
   "version": "3.12.9"
  }
 },
 "nbformat": 4,
 "nbformat_minor": 5
}
