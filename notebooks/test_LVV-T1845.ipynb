{
 "cells": [
  {
   "cell_type": "markdown",
   "metadata": {
    "collapsed": true,
    "jupyter": {
     "outputs_hidden": true
    }
   },
   "source": [
    "### LVV-T1845: Verify accuracy of photometric transformation to physical scale\n",
    "\n",
    "Verify that the DM system provides software to assess whether the accuracy of the transformation of internal LSST photometry to a physical scale (e.g. AB magnitudes) is less than **PA6 = 10 millimagnitudes**.\n",
    "\n",
    "**Discussion**: This requires observations of a source of \"truth\" in the form of [CalSpec](https://www.stsci.edu/hst/instrumentation/reference-data-for-calibration-and-tools/astronomical-catalogs/calspec) (or similar) spectrophotometric standards that can be used to assess the accuracy. At the time of this testing, only a single CalSpec standard (C26202) has been observed in all LSST bands, and only with LSSTComCam. This notebook demonstrates the methods for C26202 as observed with LSSTComCam and included in Data Preview 1 (DP1); once sufficient LSSTCam observations become available, this analysis can be done for LSSTCam data."
   ]
  },
  {
   "cell_type": "code",
   "execution_count": 1,
   "metadata": {
    "execution": {
     "iopub.execute_input": "2025-10-15T18:51:28.760888Z",
     "iopub.status.busy": "2025-10-15T18:51:28.760767Z",
     "iopub.status.idle": "2025-10-15T18:51:30.906002Z",
     "shell.execute_reply": "2025-10-15T18:51:30.905478Z",
     "shell.execute_reply.started": "2025-10-15T18:51:28.760874Z"
    }
   },
   "outputs": [
    {
     "name": "stderr",
     "output_type": "stream",
     "text": [
      "/sdf/data/rubin/user/jcarlin/repos/syseng_throughputs/syseng_throughputs/bandpassUtils.py:8: UserWarning: pkg_resources is deprecated as an API. See https://setuptools.pypa.io/en/latest/pkg_resources.html. The pkg_resources package is slated for removal as early as 2025-11-30. Refrain from using this package or pin to Setuptools<81.\n",
      "  import pkg_resources\n"
     ]
    }
   ],
   "source": [
    "# Generic python packages\n",
    "import pylab as plt\n",
    "import numpy as np\n",
    "import pandas as pd\n",
    "import glob\n",
    "import math\n",
    "import os\n",
    "import gc\n",
    "import warnings\n",
    "\n",
    "# Set the environment variable to point to the rubin_sim data:\n",
    "os.environ[\"RUBIN_SIM_DATA_DIR\"] = \"/sdf/data/rubin/shared/rubin_sim_data\"\n",
    "\n",
    "# LSST Science Pipelines (Stack) packages\n",
    "import lsst.daf.butler as dafButler\n",
    "\n",
    "# rubin_sim-related packages\n",
    "import rubin_sim.phot_utils as pt\n",
    "import syseng_throughputs as st\n",
    "from rubin_sim.data import get_data_dir\n",
    "\n",
    "# Astropy-related packages\n",
    "from astropy import units as u\n",
    "from astropy.io import fits\n",
    "from astropy.coordinates import SkyCoord\n",
    "\n",
    "# Set filter warnings to \"ignore\" to avoid a lot of excess log messages to the screen:\n",
    "warnings.filterwarnings(\"ignore\")"
   ]
  },
  {
   "cell_type": "code",
   "execution_count": 2,
   "metadata": {
    "execution": {
     "iopub.execute_input": "2025-10-15T18:51:30.907881Z",
     "iopub.status.busy": "2025-10-15T18:51:30.907751Z",
     "iopub.status.idle": "2025-10-15T18:51:30.911205Z",
     "shell.execute_reply": "2025-10-15T18:51:30.910786Z",
     "shell.execute_reply.started": "2025-10-15T18:51:30.907866Z"
    }
   },
   "outputs": [],
   "source": [
    "# Which repo, collection, instrument, and skymap to use.\n",
    "repo = '/repo/dp1'\n",
    "collections = 'LSSTComCam/DP1'\n",
    "\n",
    "instrument = 'LSSTComCam'\n",
    "skymap_name = 'lsst_cells_v1'\n",
    "day_obs_start = 20241101\n",
    "day_obs_end = 20241231\n",
    "\n",
    "verbose = 1   # 0, 1, 2, ...  Larger means more output to the screen.\n",
    "\n",
    "# Which flux to use?  psfFlux or calibFlux?\n",
    "fluxName = 'psfFlux'\n",
    "fluxerrName = 'psfFluxErr'\n",
    "#fluxName = 'calibFlux'\n",
    "#fluxerrName = 'calibFluxErr'\n",
    "\n",
    "# CalSpec star name\n",
    "star_name = 'C26202'\n",
    "\n",
    "# Which CalSpec spectrum FITS files to to use?\n",
    "sedfile_dict = {'stiswfcnic_007' : '/sdf/data/rubin/shared/calspec/2024-11-08/c26202_stiswfcnic_007.fits', \n",
    "                'mod_008'        : '/sdf/data/rubin/shared/calspec/2024-11-08/c26202_mod_008.fits'\n",
    "               }\n",
    "\n",
    "# RA, DEC of calspec star in degrees\n",
    "raDeg = 53.136845833333325\n",
    "decDeg = -27.86349444444444\n",
    "\n",
    "# List of filters to examine\n",
    "flist = ['u', 'g', 'r', 'i', 'z', 'y']\n"
   ]
  },
  {
   "cell_type": "markdown",
   "metadata": {},
   "source": [
    "#### Calculate Synthetic AB magnitudes for CalSpec star, based on official filter bandpasses"
   ]
  },
  {
   "cell_type": "markdown",
   "metadata": {},
   "source": [
    "Set up appropriate hardware and system from `syseng_throughputs`"
   ]
  },
  {
   "cell_type": "code",
   "execution_count": 3,
   "metadata": {
    "execution": {
     "iopub.execute_input": "2025-10-15T18:51:30.911719Z",
     "iopub.status.busy": "2025-10-15T18:51:30.911591Z",
     "iopub.status.idle": "2025-10-15T18:51:31.113258Z",
     "shell.execute_reply": "2025-10-15T18:51:31.112766Z",
     "shell.execute_reply.started": "2025-10-15T18:51:30.911707Z"
    }
   },
   "outputs": [],
   "source": [
    "defaultDirs = st.setDefaultDirs()\n",
    "if instrument == \"LSSTComCam\":\n",
    "    #Change detectors from (default) LSST to ComCam (ITL CCDs)\n",
    "    defaultDirs['detector'] = defaultDirs['detector'].replace('/joint_minimum',\n",
    "                                                              '/itl')\n",
    "hardware, system = st.buildHardwareAndSystem(defaultDirs)"
   ]
  },
  {
   "cell_type": "markdown",
   "metadata": {},
   "source": [
    "#### Calculate synthetic mags for C26202\n",
    "\n",
    "These are calculated for two different calibrated spectra of the CalSpec star: 'stiswfcnic_007' is the observed HST SED, and 'mod_008' is a model SED fit to the HST observations."
   ]
  },
  {
   "cell_type": "code",
   "execution_count": 4,
   "metadata": {
    "execution": {
     "iopub.execute_input": "2025-10-15T18:51:31.113866Z",
     "iopub.status.busy": "2025-10-15T18:51:31.113735Z",
     "iopub.status.idle": "2025-10-15T18:51:34.860253Z",
     "shell.execute_reply": "2025-10-15T18:51:34.859703Z",
     "shell.execute_reply.started": "2025-10-15T18:51:31.113853Z"
    }
   },
   "outputs": [
    {
     "name": "stdout",
     "output_type": "stream",
     "text": [
      "stiswfcnic_007 /sdf/data/rubin/shared/calspec/2024-11-08/c26202_stiswfcnic_007.fits\n",
      "mod_008 /sdf/data/rubin/shared/calspec/2024-11-08/c26202_mod_008.fits\n"
     ]
    }
   ],
   "source": [
    "mags = {}\n",
    "\n",
    "# Loop through the SEDs in our sedfile dictionary\n",
    "for sed_key in sedfile_dict:\n",
    "    \n",
    "    print(sed_key, sedfile_dict[sed_key])\n",
    "    \n",
    "    # Read the SED file associated with this SED\n",
    "    sedfile = sedfile_dict[sed_key]\n",
    "    seddata = fits.getdata(sedfile)\n",
    "\n",
    "    # Transform the SED data into rubin_sim format\n",
    "    wavelen = seddata['WAVELENGTH'] * u.angstrom.to(u.nanometer) # This is in angstroms - need in nanometers\n",
    "    flambda = seddata['FLUX'] / (u.angstrom.to(u.nanometer)) # this is in erg/sec/cm^^2/ang but we want /nm     \n",
    "    sed = pt.Sed(wavelen=wavelen, flambda=flambda)\n",
    "    \n",
    "    # Loop over the filters, calculating the synthetic mags for each filter for this SED\n",
    "    mags[sed_key] = []\n",
    "    for f in flist:\n",
    "        # Append the synthetic mag for this filter to this mags list for this SED\n",
    "        mags[sed_key].append(sed.calc_mag(system[f]))\n",
    "    # Convert list of synthetic mags for this SED into a numpy array\n",
    "    mags[sed_key] = np.array(mags[sed_key])"
   ]
  },
  {
   "cell_type": "code",
   "execution_count": 5,
   "metadata": {
    "execution": {
     "iopub.execute_input": "2025-10-15T18:51:34.860877Z",
     "iopub.status.busy": "2025-10-15T18:51:34.860743Z",
     "iopub.status.idle": "2025-10-15T18:51:34.867479Z",
     "shell.execute_reply": "2025-10-15T18:51:34.867059Z",
     "shell.execute_reply.started": "2025-10-15T18:51:34.860863Z"
    }
   },
   "outputs": [
    {
     "data": {
      "text/html": [
       "<div>\n",
       "<style scoped>\n",
       "    .dataframe tbody tr th:only-of-type {\n",
       "        vertical-align: middle;\n",
       "    }\n",
       "\n",
       "    .dataframe tbody tr th {\n",
       "        vertical-align: top;\n",
       "    }\n",
       "\n",
       "    .dataframe thead th {\n",
       "        text-align: right;\n",
       "    }\n",
       "</style>\n",
       "<table border=\"1\" class=\"dataframe\">\n",
       "  <thead>\n",
       "    <tr style=\"text-align: right;\">\n",
       "      <th></th>\n",
       "      <th>stiswfcnic_007</th>\n",
       "      <th>mod_008</th>\n",
       "    </tr>\n",
       "  </thead>\n",
       "  <tbody>\n",
       "    <tr>\n",
       "      <th>u</th>\n",
       "      <td>17.572800</td>\n",
       "      <td>17.586964</td>\n",
       "    </tr>\n",
       "    <tr>\n",
       "      <th>g</th>\n",
       "      <td>16.691931</td>\n",
       "      <td>16.692687</td>\n",
       "    </tr>\n",
       "    <tr>\n",
       "      <th>r</th>\n",
       "      <td>16.362017</td>\n",
       "      <td>16.361654</td>\n",
       "    </tr>\n",
       "    <tr>\n",
       "      <th>i</th>\n",
       "      <td>16.260196</td>\n",
       "      <td>16.259542</td>\n",
       "    </tr>\n",
       "    <tr>\n",
       "      <th>z</th>\n",
       "      <td>16.243679</td>\n",
       "      <td>16.243690</td>\n",
       "    </tr>\n",
       "    <tr>\n",
       "      <th>y</th>\n",
       "      <td>16.238847</td>\n",
       "      <td>16.238887</td>\n",
       "    </tr>\n",
       "  </tbody>\n",
       "</table>\n",
       "</div>"
      ],
      "text/plain": [
       "   stiswfcnic_007    mod_008\n",
       "u       17.572800  17.586964\n",
       "g       16.691931  16.692687\n",
       "r       16.362017  16.361654\n",
       "i       16.260196  16.259542\n",
       "z       16.243679  16.243690\n",
       "y       16.238847  16.238887"
      ]
     },
     "execution_count": 5,
     "metadata": {},
     "output_type": "execute_result"
    }
   ],
   "source": [
    "# Convert the mags numpy arrays into a pandas dataframe\n",
    "df_mags = pd.DataFrame(mags, index=flist)\n",
    "df_mags"
   ]
  },
  {
   "cell_type": "markdown",
   "metadata": {},
   "source": [
    "#### Query the Butler for observations of the CalSpec star"
   ]
  },
  {
   "cell_type": "code",
   "execution_count": 6,
   "metadata": {
    "execution": {
     "iopub.execute_input": "2025-10-15T18:51:34.867991Z",
     "iopub.status.busy": "2025-10-15T18:51:34.867868Z",
     "iopub.status.idle": "2025-10-15T18:51:35.383447Z",
     "shell.execute_reply": "2025-10-15T18:51:35.382929Z",
     "shell.execute_reply.started": "2025-10-15T18:51:34.867979Z"
    }
   },
   "outputs": [],
   "source": [
    "butler = dafButler.Butler(repo, collections=collections)"
   ]
  },
  {
   "cell_type": "markdown",
   "metadata": {},
   "source": [
    "Find all `visit_image`s that overlap the sky position of the CalSpec star."
   ]
  },
  {
   "cell_type": "code",
   "execution_count": 7,
   "metadata": {
    "execution": {
     "iopub.execute_input": "2025-10-15T18:51:35.384120Z",
     "iopub.status.busy": "2025-10-15T18:51:35.383973Z",
     "iopub.status.idle": "2025-10-15T18:51:35.556042Z",
     "shell.execute_reply": "2025-10-15T18:51:35.555492Z",
     "shell.execute_reply.started": "2025-10-15T18:51:35.384106Z"
    }
   },
   "outputs": [
    {
     "name": "stdout",
     "output_type": "stream",
     "text": [
      "0 {instrument: 'LSSTComCam', detector: 5, visit: 2024120500122, band: 'r', day_obs: 20241205, physical_filter: 'r_03'}\n",
      "1 {instrument: 'LSSTComCam', detector: 5, visit: 2024120900310, band: 'r', day_obs: 20241209, physical_filter: 'r_03'}\n",
      "2 {instrument: 'LSSTComCam', detector: 4, visit: 2024110800288, band: 'r', day_obs: 20241108, physical_filter: 'r_03'}\n",
      "3 {instrument: 'LSSTComCam', detector: 5, visit: 2024110800251, band: 'r', day_obs: 20241108, physical_filter: 'r_03'}\n",
      "4 {instrument: 'LSSTComCam', detector: 3, visit: 2024111900094, band: 'y', day_obs: 20241119, physical_filter: 'y_04'}\n",
      "5 {instrument: 'LSSTComCam', detector: 0, visit: 2024111700154, band: 'r', day_obs: 20241117, physical_filter: 'r_03'}\n",
      "6 {instrument: 'LSSTComCam', detector: 5, visit: 2024120900311, band: 'r', day_obs: 20241209, physical_filter: 'r_03'}\n",
      "7 {instrument: 'LSSTComCam', detector: 3, visit: 2024120600097, band: 'r', day_obs: 20241206, physical_filter: 'r_03'}\n",
      "8 {instrument: 'LSSTComCam', detector: 3, visit: 2024112700174, band: 'i', day_obs: 20241127, physical_filter: 'i_06'}\n",
      "9 {instrument: 'LSSTComCam', detector: 1, visit: 2024112700164, band: 'g', day_obs: 20241127, physical_filter: 'g_01'}\n",
      "10 {instrument: 'LSSTComCam', detector: 5, visit: 2024120600274, band: 'r', day_obs: 20241206, physical_filter: 'r_03'}\n",
      "...\n",
      "\n",
      "Found 710 visit_images\n"
     ]
    }
   ],
   "source": [
    "datasetRefs = butler.query_datasets(\"visit_image\", where=\"visit_detector_region.region OVERLAPS POINT(ra, dec)\",\n",
    "                                    bind={\"ra\": raDeg, \"dec\": decDeg})\n",
    "\n",
    "for i, ref in enumerate(datasetRefs):    \n",
    "    print(i, ref.dataId)\n",
    "    if ((verbose < 2) & (i >= 10)): \n",
    "        print(\"...\")\n",
    "        break\n",
    "\n",
    "print(f\"\\nFound {len(datasetRefs)} visit_images\")"
   ]
  },
  {
   "cell_type": "markdown",
   "metadata": {},
   "source": [
    "#### Create a pandas DataFrame containing the `source` info for all these `visit_image`s.\n",
    "\n",
    "Loop over the `datasetRefs`, grab the contents of the `source` table for each `ref`, select the entries within 3 arcsec of the Calspec star, and combine them all into one big pandas DataFrame.  "
   ]
  },
  {
   "cell_type": "code",
   "execution_count": 8,
   "metadata": {
    "execution": {
     "iopub.execute_input": "2025-10-15T18:51:35.556725Z",
     "iopub.status.busy": "2025-10-15T18:51:35.556585Z",
     "iopub.status.idle": "2025-10-15T18:52:33.629330Z",
     "shell.execute_reply": "2025-10-15T18:52:33.628760Z",
     "shell.execute_reply.started": "2025-10-15T18:51:35.556712Z"
    }
   },
   "outputs": [
    {
     "name": "stdout",
     "output_type": "stream",
     "text": [
      "0 Visit 2024120500122, Detector 5:  Retrieved catalog of 24256 sources.\n",
      "1 Visit 2024120900310, Detector 5:  Retrieved catalog of 16430 sources.\n",
      "2 Visit 2024110800288, Detector 4:  Retrieved catalog of 24224 sources.\n",
      "3 Visit 2024110800251, Detector 5:  Retrieved catalog of 27474 sources.\n",
      "4 Visit 2024111900094, Detector 3:  Retrieved catalog of 8016 sources.\n",
      "5 Visit 2024111700154, Detector 0:  Retrieved catalog of 15996 sources.\n",
      "6 Visit 2024120900311, Detector 5:  Retrieved catalog of 16339 sources.\n",
      "7 Visit 2024120600097, Detector 3:  Retrieved catalog of 20864 sources.\n",
      "8 Visit 2024112700174, Detector 3:  Retrieved catalog of 23632 sources.\n",
      "9 Visit 2024112700164, Detector 1:  Retrieved catalog of 19621 sources.\n",
      "...\n",
      "\n",
      "Total combined catalog contains 738 sources.\n"
     ]
    }
   ],
   "source": [
    "src_list = []\n",
    "\n",
    "# Create SkyCoord object for the coordinates of CalSpec star\n",
    "ref_coord = SkyCoord(ra=raDeg*u.degree, dec=decDeg*u.degree)\n",
    "\n",
    "for i, ref in enumerate(datasetRefs):\n",
    "    \n",
    "    # Retrieve sourceTable for this visit & detector...\n",
    "    dataId = {'visit': ref.dataId['visit'], 'detector': ref.dataId['detector']}\n",
    "    src = butler.get('source', dataId=dataId, storageClass='DataFrame')\n",
    "\n",
    "    # Create SkyCoord object for all points in the dataframe\n",
    "    src_coords = SkyCoord(ra=src['ra'].values*u.degree, \n",
    "                          dec=src['dec'].values*u.degree)\n",
    "\n",
    "    # Calculate separations\n",
    "    separations = ref_coord.separation(src_coords)\n",
    "\n",
    "    # Create mask for points within 3.0 arcseconds\n",
    "    mask_sep = separations < 3.0*u.arcsec\n",
    "\n",
    "    # Get filtered dataframe\n",
    "    nearby_good_df = src[mask_sep]\n",
    "\n",
    "    # Include the separations in the result\n",
    "    orig_columns = nearby_good_df.columns\n",
    "    nearby_good_df = src[mask_sep].copy()\n",
    "    nearby_good_df['separation_calspec'] = separations[mask_sep].arcsec\n",
    "\n",
    "    # Find (and keep) the closet match within the match radius\n",
    "    best_df = nearby_good_df.sort_values('separation_calspec').drop_duplicates(subset=orig_columns,\n",
    "                                                                               keep='first')\n",
    "    src_list.append(best_df)\n",
    "\n",
    "    if ((verbose >= 2) | (i < 10)): \n",
    "        print(f\"{i} Visit {ref.dataId['visit']}, Detector {ref.dataId['detector']}:  Retrieved catalog of {len(src)} sources.\")\n",
    "    if ((verbose < 2) & (i == 10)): \n",
    "        print(\"...\")\n",
    "\n",
    "src_all = pd.concat(src_list, ignore_index=True)\n",
    "\n",
    "print(\"\")\n",
    "print(f\"Total combined catalog contains {len(src_all)} sources.\")\n"
   ]
  },
  {
   "cell_type": "markdown",
   "metadata": {},
   "source": [
    "Look at the resulting table:"
   ]
  },
  {
   "cell_type": "code",
   "execution_count": 9,
   "metadata": {
    "execution": {
     "iopub.execute_input": "2025-10-15T18:52:33.630011Z",
     "iopub.status.busy": "2025-10-15T18:52:33.629868Z",
     "iopub.status.idle": "2025-10-15T18:52:33.644926Z",
     "shell.execute_reply": "2025-10-15T18:52:33.644473Z",
     "shell.execute_reply.started": "2025-10-15T18:52:33.629998Z"
    }
   },
   "outputs": [
    {
     "data": {
      "text/html": [
       "<div>\n",
       "<style scoped>\n",
       "    .dataframe tbody tr th:only-of-type {\n",
       "        vertical-align: middle;\n",
       "    }\n",
       "\n",
       "    .dataframe tbody tr th {\n",
       "        vertical-align: top;\n",
       "    }\n",
       "\n",
       "    .dataframe thead th {\n",
       "        text-align: right;\n",
       "    }\n",
       "</style>\n",
       "<table border=\"1\" class=\"dataframe\">\n",
       "  <thead>\n",
       "    <tr style=\"text-align: right;\">\n",
       "      <th></th>\n",
       "      <th>coord_ra</th>\n",
       "      <th>coord_dec</th>\n",
       "      <th>parentSourceId</th>\n",
       "      <th>x</th>\n",
       "      <th>y</th>\n",
       "      <th>xErr</th>\n",
       "      <th>yErr</th>\n",
       "      <th>ra</th>\n",
       "      <th>dec</th>\n",
       "      <th>raErr</th>\n",
       "      <th>...</th>\n",
       "      <th>hsmShapeRegauss_flag_no_pixels</th>\n",
       "      <th>hsmShapeRegauss_flag_not_contained</th>\n",
       "      <th>hsmShapeRegauss_flag_parent_source</th>\n",
       "      <th>sky_source</th>\n",
       "      <th>visit</th>\n",
       "      <th>detector</th>\n",
       "      <th>band</th>\n",
       "      <th>physical_filter</th>\n",
       "      <th>sourceId</th>\n",
       "      <th>separation_calspec</th>\n",
       "    </tr>\n",
       "  </thead>\n",
       "  <tbody>\n",
       "    <tr>\n",
       "      <th>0</th>\n",
       "      <td>53.137027</td>\n",
       "      <td>-27.863437</td>\n",
       "      <td>600438918259148785</td>\n",
       "      <td>3543.736918</td>\n",
       "      <td>3567.315109</td>\n",
       "      <td>0.003288</td>\n",
       "      <td>0.003538</td>\n",
       "      <td>53.137027</td>\n",
       "      <td>-27.863437</td>\n",
       "      <td>1.730115e-07</td>\n",
       "      <td>...</td>\n",
       "      <td>False</td>\n",
       "      <td>False</td>\n",
       "      <td>False</td>\n",
       "      <td>False</td>\n",
       "      <td>2024120500122</td>\n",
       "      <td>5</td>\n",
       "      <td>r</td>\n",
       "      <td>r_03</td>\n",
       "      <td>600438918259149727</td>\n",
       "      <td>0.612873</td>\n",
       "    </tr>\n",
       "    <tr>\n",
       "      <th>1</th>\n",
       "      <td>53.137028</td>\n",
       "      <td>-27.863440</td>\n",
       "      <td>0</td>\n",
       "      <td>2026.226940</td>\n",
       "      <td>2602.800131</td>\n",
       "      <td>0.004344</td>\n",
       "      <td>0.004361</td>\n",
       "      <td>53.137028</td>\n",
       "      <td>-27.863440</td>\n",
       "      <td>2.144082e-07</td>\n",
       "      <td>...</td>\n",
       "      <td>False</td>\n",
       "      <td>False</td>\n",
       "      <td>False</td>\n",
       "      <td>False</td>\n",
       "      <td>2024120900310</td>\n",
       "      <td>5</td>\n",
       "      <td>r</td>\n",
       "      <td>r_03</td>\n",
       "      <td>600456535678125066</td>\n",
       "      <td>0.612273</td>\n",
       "    </tr>\n",
       "    <tr>\n",
       "      <th>2</th>\n",
       "      <td>53.137028</td>\n",
       "      <td>-27.863438</td>\n",
       "      <td>0</td>\n",
       "      <td>4006.541112</td>\n",
       "      <td>2321.674127</td>\n",
       "      <td>0.002968</td>\n",
       "      <td>0.003820</td>\n",
       "      <td>53.137028</td>\n",
       "      <td>-27.863438</td>\n",
       "      <td>1.860617e-07</td>\n",
       "      <td>...</td>\n",
       "      <td>False</td>\n",
       "      <td>False</td>\n",
       "      <td>False</td>\n",
       "      <td>False</td>\n",
       "      <td>2024110800288</td>\n",
       "      <td>4</td>\n",
       "      <td>r</td>\n",
       "      <td>r_03</td>\n",
       "      <td>600320193282966861</td>\n",
       "      <td>0.613363</td>\n",
       "    </tr>\n",
       "    <tr>\n",
       "      <th>3</th>\n",
       "      <td>53.137029</td>\n",
       "      <td>-27.863437</td>\n",
       "      <td>0</td>\n",
       "      <td>1353.151110</td>\n",
       "      <td>3215.383978</td>\n",
       "      <td>0.002502</td>\n",
       "      <td>0.003427</td>\n",
       "      <td>53.137029</td>\n",
       "      <td>-27.863437</td>\n",
       "      <td>1.666293e-07</td>\n",
       "      <td>...</td>\n",
       "      <td>False</td>\n",
       "      <td>False</td>\n",
       "      <td>False</td>\n",
       "      <td>False</td>\n",
       "      <td>2024110800251</td>\n",
       "      <td>5</td>\n",
       "      <td>r</td>\n",
       "      <td>r_03</td>\n",
       "      <td>600320188317435946</td>\n",
       "      <td>0.617537</td>\n",
       "    </tr>\n",
       "    <tr>\n",
       "      <th>4</th>\n",
       "      <td>53.137030</td>\n",
       "      <td>-27.863437</td>\n",
       "      <td>600368545755824728</td>\n",
       "      <td>1477.052112</td>\n",
       "      <td>3245.809422</td>\n",
       "      <td>0.008955</td>\n",
       "      <td>0.009168</td>\n",
       "      <td>53.137030</td>\n",
       "      <td>-27.863437</td>\n",
       "      <td>4.490681e-07</td>\n",
       "      <td>...</td>\n",
       "      <td>False</td>\n",
       "      <td>False</td>\n",
       "      <td>False</td>\n",
       "      <td>False</td>\n",
       "      <td>2024111900094</td>\n",
       "      <td>3</td>\n",
       "      <td>y</td>\n",
       "      <td>y_04</td>\n",
       "      <td>600368545755825164</td>\n",
       "      <td>0.621088</td>\n",
       "    </tr>\n",
       "    <tr>\n",
       "      <th>...</th>\n",
       "      <td>...</td>\n",
       "      <td>...</td>\n",
       "      <td>...</td>\n",
       "      <td>...</td>\n",
       "      <td>...</td>\n",
       "      <td>...</td>\n",
       "      <td>...</td>\n",
       "      <td>...</td>\n",
       "      <td>...</td>\n",
       "      <td>...</td>\n",
       "      <td>...</td>\n",
       "      <td>...</td>\n",
       "      <td>...</td>\n",
       "      <td>...</td>\n",
       "      <td>...</td>\n",
       "      <td>...</td>\n",
       "      <td>...</td>\n",
       "      <td>...</td>\n",
       "      <td>...</td>\n",
       "      <td>...</td>\n",
       "      <td>...</td>\n",
       "    </tr>\n",
       "    <tr>\n",
       "      <th>733</th>\n",
       "      <td>53.137028</td>\n",
       "      <td>-27.863440</td>\n",
       "      <td>0</td>\n",
       "      <td>2605.033129</td>\n",
       "      <td>1829.205358</td>\n",
       "      <td>0.003917</td>\n",
       "      <td>0.003729</td>\n",
       "      <td>53.137028</td>\n",
       "      <td>-27.863440</td>\n",
       "      <td>1.858152e-07</td>\n",
       "      <td>...</td>\n",
       "      <td>False</td>\n",
       "      <td>False</td>\n",
       "      <td>False</td>\n",
       "      <td>False</td>\n",
       "      <td>2024120100171</td>\n",
       "      <td>3</td>\n",
       "      <td>r</td>\n",
       "      <td>r_03</td>\n",
       "      <td>600421332648723289</td>\n",
       "      <td>0.611423</td>\n",
       "    </tr>\n",
       "    <tr>\n",
       "      <th>734</th>\n",
       "      <td>53.137028</td>\n",
       "      <td>-27.863437</td>\n",
       "      <td>600430127132181454</td>\n",
       "      <td>1047.321282</td>\n",
       "      <td>1907.988856</td>\n",
       "      <td>0.004122</td>\n",
       "      <td>0.004251</td>\n",
       "      <td>53.137028</td>\n",
       "      <td>-27.863437</td>\n",
       "      <td>2.089816e-07</td>\n",
       "      <td>...</td>\n",
       "      <td>False</td>\n",
       "      <td>False</td>\n",
       "      <td>False</td>\n",
       "      <td>False</td>\n",
       "      <td>2024120300159</td>\n",
       "      <td>5</td>\n",
       "      <td>i</td>\n",
       "      <td>i_06</td>\n",
       "      <td>600430127132182908</td>\n",
       "      <td>0.615853</td>\n",
       "    </tr>\n",
       "    <tr>\n",
       "      <th>735</th>\n",
       "      <td>53.137027</td>\n",
       "      <td>-27.863436</td>\n",
       "      <td>600337786541179849</td>\n",
       "      <td>3745.984108</td>\n",
       "      <td>3011.292749</td>\n",
       "      <td>0.004262</td>\n",
       "      <td>0.002625</td>\n",
       "      <td>53.137027</td>\n",
       "      <td>-27.863436</td>\n",
       "      <td>1.339006e-07</td>\n",
       "      <td>...</td>\n",
       "      <td>False</td>\n",
       "      <td>False</td>\n",
       "      <td>False</td>\n",
       "      <td>False</td>\n",
       "      <td>2024111200296</td>\n",
       "      <td>1</td>\n",
       "      <td>z</td>\n",
       "      <td>z_03</td>\n",
       "      <td>600337786541180461</td>\n",
       "      <td>0.613636</td>\n",
       "    </tr>\n",
       "    <tr>\n",
       "      <th>736</th>\n",
       "      <td>53.137026</td>\n",
       "      <td>-27.863438</td>\n",
       "      <td>0</td>\n",
       "      <td>1574.050219</td>\n",
       "      <td>3289.900215</td>\n",
       "      <td>0.003917</td>\n",
       "      <td>0.004194</td>\n",
       "      <td>53.137026</td>\n",
       "      <td>-27.863438</td>\n",
       "      <td>2.055084e-07</td>\n",
       "      <td>...</td>\n",
       "      <td>False</td>\n",
       "      <td>False</td>\n",
       "      <td>False</td>\n",
       "      <td>False</td>\n",
       "      <td>2024111100086</td>\n",
       "      <td>3</td>\n",
       "      <td>r</td>\n",
       "      <td>r_03</td>\n",
       "      <td>600333360309994357</td>\n",
       "      <td>0.609293</td>\n",
       "    </tr>\n",
       "    <tr>\n",
       "      <th>737</th>\n",
       "      <td>53.137025</td>\n",
       "      <td>-27.863436</td>\n",
       "      <td>0</td>\n",
       "      <td>2679.265159</td>\n",
       "      <td>1726.355274</td>\n",
       "      <td>0.004505</td>\n",
       "      <td>0.004730</td>\n",
       "      <td>53.137025</td>\n",
       "      <td>-27.863436</td>\n",
       "      <td>2.312587e-07</td>\n",
       "      <td>...</td>\n",
       "      <td>False</td>\n",
       "      <td>False</td>\n",
       "      <td>False</td>\n",
       "      <td>False</td>\n",
       "      <td>2024120800363</td>\n",
       "      <td>7</td>\n",
       "      <td>z</td>\n",
       "      <td>z_03</td>\n",
       "      <td>600452144746201804</td>\n",
       "      <td>0.608547</td>\n",
       "    </tr>\n",
       "  </tbody>\n",
       "</table>\n",
       "<p>738 rows × 157 columns</p>\n",
       "</div>"
      ],
      "text/plain": [
       "      coord_ra  coord_dec      parentSourceId            x            y  \\\n",
       "0    53.137027 -27.863437  600438918259148785  3543.736918  3567.315109   \n",
       "1    53.137028 -27.863440                   0  2026.226940  2602.800131   \n",
       "2    53.137028 -27.863438                   0  4006.541112  2321.674127   \n",
       "3    53.137029 -27.863437                   0  1353.151110  3215.383978   \n",
       "4    53.137030 -27.863437  600368545755824728  1477.052112  3245.809422   \n",
       "..         ...        ...                 ...          ...          ...   \n",
       "733  53.137028 -27.863440                   0  2605.033129  1829.205358   \n",
       "734  53.137028 -27.863437  600430127132181454  1047.321282  1907.988856   \n",
       "735  53.137027 -27.863436  600337786541179849  3745.984108  3011.292749   \n",
       "736  53.137026 -27.863438                   0  1574.050219  3289.900215   \n",
       "737  53.137025 -27.863436                   0  2679.265159  1726.355274   \n",
       "\n",
       "         xErr      yErr         ra        dec         raErr  ...  \\\n",
       "0    0.003288  0.003538  53.137027 -27.863437  1.730115e-07  ...   \n",
       "1    0.004344  0.004361  53.137028 -27.863440  2.144082e-07  ...   \n",
       "2    0.002968  0.003820  53.137028 -27.863438  1.860617e-07  ...   \n",
       "3    0.002502  0.003427  53.137029 -27.863437  1.666293e-07  ...   \n",
       "4    0.008955  0.009168  53.137030 -27.863437  4.490681e-07  ...   \n",
       "..        ...       ...        ...        ...           ...  ...   \n",
       "733  0.003917  0.003729  53.137028 -27.863440  1.858152e-07  ...   \n",
       "734  0.004122  0.004251  53.137028 -27.863437  2.089816e-07  ...   \n",
       "735  0.004262  0.002625  53.137027 -27.863436  1.339006e-07  ...   \n",
       "736  0.003917  0.004194  53.137026 -27.863438  2.055084e-07  ...   \n",
       "737  0.004505  0.004730  53.137025 -27.863436  2.312587e-07  ...   \n",
       "\n",
       "     hsmShapeRegauss_flag_no_pixels  hsmShapeRegauss_flag_not_contained  \\\n",
       "0                             False                               False   \n",
       "1                             False                               False   \n",
       "2                             False                               False   \n",
       "3                             False                               False   \n",
       "4                             False                               False   \n",
       "..                              ...                                 ...   \n",
       "733                           False                               False   \n",
       "734                           False                               False   \n",
       "735                           False                               False   \n",
       "736                           False                               False   \n",
       "737                           False                               False   \n",
       "\n",
       "     hsmShapeRegauss_flag_parent_source  sky_source          visit  detector  \\\n",
       "0                                 False       False  2024120500122         5   \n",
       "1                                 False       False  2024120900310         5   \n",
       "2                                 False       False  2024110800288         4   \n",
       "3                                 False       False  2024110800251         5   \n",
       "4                                 False       False  2024111900094         3   \n",
       "..                                  ...         ...            ...       ...   \n",
       "733                               False       False  2024120100171         3   \n",
       "734                               False       False  2024120300159         5   \n",
       "735                               False       False  2024111200296         1   \n",
       "736                               False       False  2024111100086         3   \n",
       "737                               False       False  2024120800363         7   \n",
       "\n",
       "     band  physical_filter            sourceId  separation_calspec  \n",
       "0       r             r_03  600438918259149727            0.612873  \n",
       "1       r             r_03  600456535678125066            0.612273  \n",
       "2       r             r_03  600320193282966861            0.613363  \n",
       "3       r             r_03  600320188317435946            0.617537  \n",
       "4       y             y_04  600368545755825164            0.621088  \n",
       "..    ...              ...                 ...                 ...  \n",
       "733     r             r_03  600421332648723289            0.611423  \n",
       "734     i             i_06  600430127132182908            0.615853  \n",
       "735     z             z_03  600337786541180461            0.613636  \n",
       "736     r             r_03  600333360309994357            0.609293  \n",
       "737     z             z_03  600452144746201804            0.608547  \n",
       "\n",
       "[738 rows x 157 columns]"
      ]
     },
     "execution_count": 9,
     "metadata": {},
     "output_type": "execute_result"
    }
   ],
   "source": [
    "src_all"
   ]
  },
  {
   "cell_type": "markdown",
   "metadata": {},
   "source": [
    "Extract only those rows with the \"bad\" and \"saturated\" flags not set, and that are flagged as \"not extended\"."
   ]
  },
  {
   "cell_type": "code",
   "execution_count": 10,
   "metadata": {
    "execution": {
     "iopub.execute_input": "2025-10-15T18:52:33.645530Z",
     "iopub.status.busy": "2025-10-15T18:52:33.645401Z",
     "iopub.status.idle": "2025-10-15T18:52:33.669564Z",
     "shell.execute_reply": "2025-10-15T18:52:33.669147Z",
     "shell.execute_reply.started": "2025-10-15T18:52:33.645518Z"
    }
   },
   "outputs": [],
   "source": [
    "# Create a mask to cull sources with \"bad\" measurements.\n",
    "mask = (~src_all.pixelFlags_bad) & (~src_all.pixelFlags_saturated) & \\\n",
    "       (~src_all.extendedness_flag) # & (src_all.detect_isPrimary)\n",
    "\n",
    "# Apply mask, keeping only the \"good\" measurements of `src_all`\n",
    "src_all_cleaned = src_all[mask]\n",
    "\n",
    "# # Find (and keep) the closet match within the match radius\n",
    "best_df = src_all_cleaned.sort_values('separation_calspec').drop_duplicates(subset=orig_columns, keep='first')\n"
   ]
  },
  {
   "cell_type": "markdown",
   "metadata": {},
   "source": [
    "Add mag_obs and mag_obsErr columns:"
   ]
  },
  {
   "cell_type": "code",
   "execution_count": 11,
   "metadata": {
    "execution": {
     "iopub.execute_input": "2025-10-15T18:52:33.670123Z",
     "iopub.status.busy": "2025-10-15T18:52:33.669980Z",
     "iopub.status.idle": "2025-10-15T18:52:33.676588Z",
     "shell.execute_reply": "2025-10-15T18:52:33.676217Z",
     "shell.execute_reply.started": "2025-10-15T18:52:33.670110Z"
    }
   },
   "outputs": [],
   "source": [
    "# Flux in nano-Janskys to AB magnitudes:\n",
    "best_df['mag_obs'] = -2.5*np.log10(best_df[fluxName]) + 31.4\n",
    "\n",
    "# Flux error in nano-Janskys to AB magnitude error:\n",
    "# Factor of 2.5/math.log(10) is explained here:  https://astronomy.stackexchange.com/questions/38371/how-can-i-calculate-the-uncertainties-in-magnitude-like-the-cds-does\n",
    "best_df['mag_obsErr'] = 2.5/math.log(10)*best_df[fluxerrName]/best_df[fluxName]"
   ]
  },
  {
   "cell_type": "markdown",
   "metadata": {},
   "source": [
    "Display `visit`, `detector`, `band`, fluxName, fluxerrName, `mag_obs`, `mag_obsErr`, and `separation_calspec` from best_df, sorted by `visit` and `band`:"
   ]
  },
  {
   "cell_type": "code",
   "execution_count": 12,
   "metadata": {
    "execution": {
     "iopub.execute_input": "2025-10-15T18:52:33.677108Z",
     "iopub.status.busy": "2025-10-15T18:52:33.676969Z",
     "iopub.status.idle": "2025-10-15T18:52:33.700986Z",
     "shell.execute_reply": "2025-10-15T18:52:33.700625Z",
     "shell.execute_reply.started": "2025-10-15T18:52:33.677094Z"
    }
   },
   "outputs": [],
   "source": [
    "# Set pandas to show all rows...\n",
    "if verbose > 2:\n",
    "    pd.set_option(\"display.max_rows\", None)"
   ]
  },
  {
   "cell_type": "code",
   "execution_count": 13,
   "metadata": {
    "execution": {
     "iopub.execute_input": "2025-10-15T18:52:33.701492Z",
     "iopub.status.busy": "2025-10-15T18:52:33.701372Z",
     "iopub.status.idle": "2025-10-15T18:52:33.727601Z",
     "shell.execute_reply": "2025-10-15T18:52:33.727226Z",
     "shell.execute_reply.started": "2025-10-15T18:52:33.701479Z"
    }
   },
   "outputs": [
    {
     "data": {
      "text/html": [
       "<div>\n",
       "<style scoped>\n",
       "    .dataframe tbody tr th:only-of-type {\n",
       "        vertical-align: middle;\n",
       "    }\n",
       "\n",
       "    .dataframe tbody tr th {\n",
       "        vertical-align: top;\n",
       "    }\n",
       "\n",
       "    .dataframe thead th {\n",
       "        text-align: right;\n",
       "    }\n",
       "</style>\n",
       "<table border=\"1\" class=\"dataframe\">\n",
       "  <thead>\n",
       "    <tr style=\"text-align: right;\">\n",
       "      <th></th>\n",
       "      <th>visit</th>\n",
       "      <th>detector</th>\n",
       "      <th>band</th>\n",
       "      <th>psfFlux</th>\n",
       "      <th>psfFluxErr</th>\n",
       "      <th>mag_obs</th>\n",
       "      <th>mag_obsErr</th>\n",
       "      <th>separation_calspec</th>\n",
       "    </tr>\n",
       "  </thead>\n",
       "  <tbody>\n",
       "    <tr>\n",
       "      <th>701</th>\n",
       "      <td>2024110800245</td>\n",
       "      <td>1</td>\n",
       "      <td>i</td>\n",
       "      <td>1.163431e+06</td>\n",
       "      <td>1232.708193</td>\n",
       "      <td>16.235648</td>\n",
       "      <td>0.001150</td>\n",
       "      <td>0.620885</td>\n",
       "    </tr>\n",
       "    <tr>\n",
       "      <th>702</th>\n",
       "      <td>2024110800245</td>\n",
       "      <td>1</td>\n",
       "      <td>i</td>\n",
       "      <td>2.686897e+03</td>\n",
       "      <td>197.466328</td>\n",
       "      <td>22.826873</td>\n",
       "      <td>0.079793</td>\n",
       "      <td>2.974573</td>\n",
       "    </tr>\n",
       "    <tr>\n",
       "      <th>474</th>\n",
       "      <td>2024110800246</td>\n",
       "      <td>1</td>\n",
       "      <td>r</td>\n",
       "      <td>1.052992e+06</td>\n",
       "      <td>1024.741391</td>\n",
       "      <td>16.343937</td>\n",
       "      <td>0.001057</td>\n",
       "      <td>0.618329</td>\n",
       "    </tr>\n",
       "    <tr>\n",
       "      <th>433</th>\n",
       "      <td>2024110800247</td>\n",
       "      <td>5</td>\n",
       "      <td>r</td>\n",
       "      <td>1.019126e+06</td>\n",
       "      <td>1020.083237</td>\n",
       "      <td>16.379430</td>\n",
       "      <td>0.001087</td>\n",
       "      <td>0.618556</td>\n",
       "    </tr>\n",
       "    <tr>\n",
       "      <th>237</th>\n",
       "      <td>2024110800248</td>\n",
       "      <td>5</td>\n",
       "      <td>i</td>\n",
       "      <td>1.112040e+06</td>\n",
       "      <td>1182.766556</td>\n",
       "      <td>16.284699</td>\n",
       "      <td>0.001155</td>\n",
       "      <td>0.612944</td>\n",
       "    </tr>\n",
       "    <tr>\n",
       "      <th>...</th>\n",
       "      <td>...</td>\n",
       "      <td>...</td>\n",
       "      <td>...</td>\n",
       "      <td>...</td>\n",
       "      <td>...</td>\n",
       "      <td>...</td>\n",
       "      <td>...</td>\n",
       "      <td>...</td>\n",
       "    </tr>\n",
       "    <tr>\n",
       "      <th>86</th>\n",
       "      <td>2024121000427</td>\n",
       "      <td>2</td>\n",
       "      <td>g</td>\n",
       "      <td>7.621856e+05</td>\n",
       "      <td>1491.018663</td>\n",
       "      <td>16.694848</td>\n",
       "      <td>0.002124</td>\n",
       "      <td>0.599331</td>\n",
       "    </tr>\n",
       "    <tr>\n",
       "      <th>686</th>\n",
       "      <td>2024121000428</td>\n",
       "      <td>5</td>\n",
       "      <td>g</td>\n",
       "      <td>7.586157e+05</td>\n",
       "      <td>1142.177782</td>\n",
       "      <td>16.699945</td>\n",
       "      <td>0.001635</td>\n",
       "      <td>0.608013</td>\n",
       "    </tr>\n",
       "    <tr>\n",
       "      <th>587</th>\n",
       "      <td>2024121000430</td>\n",
       "      <td>2</td>\n",
       "      <td>g</td>\n",
       "      <td>7.508944e+05</td>\n",
       "      <td>1395.953629</td>\n",
       "      <td>16.711053</td>\n",
       "      <td>0.002018</td>\n",
       "      <td>0.608997</td>\n",
       "    </tr>\n",
       "    <tr>\n",
       "      <th>494</th>\n",
       "      <td>2024121000433</td>\n",
       "      <td>2</td>\n",
       "      <td>g</td>\n",
       "      <td>7.482060e+05</td>\n",
       "      <td>1758.907941</td>\n",
       "      <td>16.714947</td>\n",
       "      <td>0.002552</td>\n",
       "      <td>0.595296</td>\n",
       "    </tr>\n",
       "    <tr>\n",
       "      <th>225</th>\n",
       "      <td>2024121000434</td>\n",
       "      <td>2</td>\n",
       "      <td>g</td>\n",
       "      <td>7.505615e+05</td>\n",
       "      <td>1176.145761</td>\n",
       "      <td>16.711534</td>\n",
       "      <td>0.001701</td>\n",
       "      <td>0.629250</td>\n",
       "    </tr>\n",
       "  </tbody>\n",
       "</table>\n",
       "<p>668 rows × 8 columns</p>\n",
       "</div>"
      ],
      "text/plain": [
       "             visit  detector band       psfFlux   psfFluxErr    mag_obs  \\\n",
       "701  2024110800245         1    i  1.163431e+06  1232.708193  16.235648   \n",
       "702  2024110800245         1    i  2.686897e+03   197.466328  22.826873   \n",
       "474  2024110800246         1    r  1.052992e+06  1024.741391  16.343937   \n",
       "433  2024110800247         5    r  1.019126e+06  1020.083237  16.379430   \n",
       "237  2024110800248         5    i  1.112040e+06  1182.766556  16.284699   \n",
       "..             ...       ...  ...           ...          ...        ...   \n",
       "86   2024121000427         2    g  7.621856e+05  1491.018663  16.694848   \n",
       "686  2024121000428         5    g  7.586157e+05  1142.177782  16.699945   \n",
       "587  2024121000430         2    g  7.508944e+05  1395.953629  16.711053   \n",
       "494  2024121000433         2    g  7.482060e+05  1758.907941  16.714947   \n",
       "225  2024121000434         2    g  7.505615e+05  1176.145761  16.711534   \n",
       "\n",
       "     mag_obsErr  separation_calspec  \n",
       "701    0.001150            0.620885  \n",
       "702    0.079793            2.974573  \n",
       "474    0.001057            0.618329  \n",
       "433    0.001087            0.618556  \n",
       "237    0.001155            0.612944  \n",
       "..          ...                 ...  \n",
       "86     0.002124            0.599331  \n",
       "686    0.001635            0.608013  \n",
       "587    0.002018            0.608997  \n",
       "494    0.002552            0.595296  \n",
       "225    0.001701            0.629250  \n",
       "\n",
       "[668 rows x 8 columns]"
      ]
     },
     "execution_count": 13,
     "metadata": {},
     "output_type": "execute_result"
    }
   ],
   "source": [
    "best_df[['visit', 'detector', 'band', fluxName, fluxerrName, 'mag_obs', 'mag_obsErr', 'separation_calspec']].sort_values(['visit', 'band'])"
   ]
  },
  {
   "cell_type": "code",
   "execution_count": 14,
   "metadata": {
    "execution": {
     "iopub.execute_input": "2025-10-15T18:52:33.728145Z",
     "iopub.status.busy": "2025-10-15T18:52:33.728007Z",
     "iopub.status.idle": "2025-10-15T18:52:33.759936Z",
     "shell.execute_reply": "2025-10-15T18:52:33.759551Z",
     "shell.execute_reply.started": "2025-10-15T18:52:33.728132Z"
    }
   },
   "outputs": [
    {
     "name": "stdout",
     "output_type": "stream",
     "text": [
      "Number of rows:  668\n"
     ]
    }
   ],
   "source": [
    "print(\"\"\"Number of rows:  %d\"\"\" % (len(best_df['visit'])))"
   ]
  },
  {
   "cell_type": "code",
   "execution_count": 15,
   "metadata": {
    "execution": {
     "iopub.execute_input": "2025-10-15T18:52:33.760472Z",
     "iopub.status.busy": "2025-10-15T18:52:33.760350Z",
     "iopub.status.idle": "2025-10-15T18:52:33.786665Z",
     "shell.execute_reply": "2025-10-15T18:52:33.786297Z",
     "shell.execute_reply.started": "2025-10-15T18:52:33.760460Z"
    }
   },
   "outputs": [],
   "source": [
    "# Reset pandas to its default maximum rows to print to screen\n",
    "if verbose > 2:\n",
    "    pd.reset_option(\"display.max_rows\")"
   ]
  },
  {
   "cell_type": "markdown",
   "metadata": {},
   "source": [
    "#### Calculate differences between the calibrated observed magnitudes and the LSST synthetic mags for the CalSpec star"
   ]
  },
  {
   "cell_type": "code",
   "execution_count": 16,
   "metadata": {
    "execution": {
     "iopub.execute_input": "2025-10-15T18:52:33.787179Z",
     "iopub.status.busy": "2025-10-15T18:52:33.787059Z",
     "iopub.status.idle": "2025-10-15T18:52:33.800293Z",
     "shell.execute_reply": "2025-10-15T18:52:33.799899Z",
     "shell.execute_reply.started": "2025-10-15T18:52:33.787167Z"
    }
   },
   "outputs": [],
   "source": [
    "# Group by the 'band' column in best_df calculate the counts of 'band' for each group\n",
    "count_df = best_df.groupby('band')['mag_obs'].count().reset_index()\n",
    "\n",
    "# Rename the columns for clarity\n",
    "count_df = count_df.rename(columns={'mag_obs': 'n_band'})\n",
    "\n",
    "if verbose > 2:\n",
    "    count_df"
   ]
  },
  {
   "cell_type": "code",
   "execution_count": 17,
   "metadata": {
    "execution": {
     "iopub.execute_input": "2025-10-15T18:52:33.800804Z",
     "iopub.status.busy": "2025-10-15T18:52:33.800683Z",
     "iopub.status.idle": "2025-10-15T18:52:33.809536Z",
     "shell.execute_reply": "2025-10-15T18:52:33.809144Z",
     "shell.execute_reply.started": "2025-10-15T18:52:33.800792Z"
    }
   },
   "outputs": [],
   "source": [
    "# Group by the 'band' column in beset_df and calculate the median of 'mag_obs' for each group\n",
    "median_df = best_df.groupby('band')['mag_obs'].median().reset_index()\n",
    "\n",
    "# Rename the columns for clarity\n",
    "median_df = median_df.rename(columns={'mag_obs': 'median_mag_obs'})\n",
    "\n",
    "if verbose > 2:\n",
    "    median_df"
   ]
  },
  {
   "cell_type": "code",
   "execution_count": 18,
   "metadata": {
    "execution": {
     "iopub.execute_input": "2025-10-15T18:52:33.810046Z",
     "iopub.status.busy": "2025-10-15T18:52:33.809918Z",
     "iopub.status.idle": "2025-10-15T18:52:33.821796Z",
     "shell.execute_reply": "2025-10-15T18:52:33.821428Z",
     "shell.execute_reply.started": "2025-10-15T18:52:33.810026Z"
    }
   },
   "outputs": [],
   "source": [
    "# Merge the count_df and merge_df dataframes based on the filter band name\n",
    "combined_df = pd.merge(count_df, median_df, left_on='band', right_on='band')\n",
    "\n",
    "if verbose > 2:\n",
    "    combined_df"
   ]
  },
  {
   "cell_type": "code",
   "execution_count": 19,
   "metadata": {
    "execution": {
     "iopub.execute_input": "2025-10-15T18:52:33.822307Z",
     "iopub.status.busy": "2025-10-15T18:52:33.822184Z",
     "iopub.status.idle": "2025-10-15T18:52:33.835491Z",
     "shell.execute_reply": "2025-10-15T18:52:33.835110Z",
     "shell.execute_reply.started": "2025-10-15T18:52:33.822296Z"
    }
   },
   "outputs": [],
   "source": [
    "# Reset the df_mags index to turn the keys into a column\n",
    "df_mags_reset = df_mags.reset_index()\n",
    "\n",
    "# Merge the dataframes based on the filter name\n",
    "combined_df = pd.merge(combined_df, df_mags_reset, left_on='band', right_on='index')\n",
    "\n",
    "if verbose > 2:\n",
    "    combined_df"
   ]
  },
  {
   "cell_type": "code",
   "execution_count": 20,
   "metadata": {
    "execution": {
     "iopub.execute_input": "2025-10-15T18:52:33.835983Z",
     "iopub.status.busy": "2025-10-15T18:52:33.835862Z",
     "iopub.status.idle": "2025-10-15T18:52:33.848329Z",
     "shell.execute_reply": "2025-10-15T18:52:33.847950Z",
     "shell.execute_reply.started": "2025-10-15T18:52:33.835971Z"
    }
   },
   "outputs": [],
   "source": [
    "# Calculate the differences and add the new columns\n",
    "for sed_key in sedfile_dict:\n",
    "    offset_name = \"\"\"offset_%s\"\"\" % (sed_key)\n",
    "    combined_df[offset_name] = combined_df['median_mag_obs'] - combined_df[sed_key]\n",
    "\n",
    "if verbose > 2:\n",
    "    combined_df"
   ]
  },
  {
   "cell_type": "code",
   "execution_count": 21,
   "metadata": {
    "execution": {
     "iopub.execute_input": "2025-10-15T18:52:33.848806Z",
     "iopub.status.busy": "2025-10-15T18:52:33.848686Z",
     "iopub.status.idle": "2025-10-15T18:52:33.926940Z",
     "shell.execute_reply": "2025-10-15T18:52:33.926559Z",
     "shell.execute_reply.started": "2025-10-15T18:52:33.848794Z"
    }
   },
   "outputs": [
    {
     "data": {
      "text/html": [
       "<div>\n",
       "<style scoped>\n",
       "    .dataframe tbody tr th:only-of-type {\n",
       "        vertical-align: middle;\n",
       "    }\n",
       "\n",
       "    .dataframe tbody tr th {\n",
       "        vertical-align: top;\n",
       "    }\n",
       "\n",
       "    .dataframe thead th {\n",
       "        text-align: right;\n",
       "    }\n",
       "</style>\n",
       "<table border=\"1\" class=\"dataframe\">\n",
       "  <thead>\n",
       "    <tr style=\"text-align: right;\">\n",
       "      <th></th>\n",
       "      <th>band</th>\n",
       "      <th>n_band</th>\n",
       "      <th>median_mag_obs</th>\n",
       "      <th>stiswfcnic_007</th>\n",
       "      <th>mod_008</th>\n",
       "      <th>offset_stiswfcnic_007</th>\n",
       "      <th>offset_mod_008</th>\n",
       "    </tr>\n",
       "  </thead>\n",
       "  <tbody>\n",
       "    <tr>\n",
       "      <th>0</th>\n",
       "      <td>u</td>\n",
       "      <td>32</td>\n",
       "      <td>17.623262</td>\n",
       "      <td>17.572800</td>\n",
       "      <td>17.586964</td>\n",
       "      <td>0.050462</td>\n",
       "      <td>0.036298</td>\n",
       "    </tr>\n",
       "    <tr>\n",
       "      <th>1</th>\n",
       "      <td>g</td>\n",
       "      <td>166</td>\n",
       "      <td>16.698958</td>\n",
       "      <td>16.691931</td>\n",
       "      <td>16.692687</td>\n",
       "      <td>0.007026</td>\n",
       "      <td>0.006270</td>\n",
       "    </tr>\n",
       "    <tr>\n",
       "      <th>2</th>\n",
       "      <td>r</td>\n",
       "      <td>188</td>\n",
       "      <td>16.367068</td>\n",
       "      <td>16.362017</td>\n",
       "      <td>16.361654</td>\n",
       "      <td>0.005051</td>\n",
       "      <td>0.005414</td>\n",
       "    </tr>\n",
       "    <tr>\n",
       "      <th>3</th>\n",
       "      <td>i</td>\n",
       "      <td>128</td>\n",
       "      <td>16.260782</td>\n",
       "      <td>16.260196</td>\n",
       "      <td>16.259542</td>\n",
       "      <td>0.000586</td>\n",
       "      <td>0.001240</td>\n",
       "    </tr>\n",
       "    <tr>\n",
       "      <th>4</th>\n",
       "      <td>z</td>\n",
       "      <td>128</td>\n",
       "      <td>16.247457</td>\n",
       "      <td>16.243679</td>\n",
       "      <td>16.243690</td>\n",
       "      <td>0.003778</td>\n",
       "      <td>0.003767</td>\n",
       "    </tr>\n",
       "    <tr>\n",
       "      <th>5</th>\n",
       "      <td>y</td>\n",
       "      <td>26</td>\n",
       "      <td>16.242107</td>\n",
       "      <td>16.238847</td>\n",
       "      <td>16.238887</td>\n",
       "      <td>0.003260</td>\n",
       "      <td>0.003221</td>\n",
       "    </tr>\n",
       "  </tbody>\n",
       "</table>\n",
       "</div>"
      ],
      "text/plain": [
       "  band  n_band  median_mag_obs  stiswfcnic_007    mod_008  \\\n",
       "0    u      32       17.623262       17.572800  17.586964   \n",
       "1    g     166       16.698958       16.691931  16.692687   \n",
       "2    r     188       16.367068       16.362017  16.361654   \n",
       "3    i     128       16.260782       16.260196  16.259542   \n",
       "4    z     128       16.247457       16.243679  16.243690   \n",
       "5    y      26       16.242107       16.238847  16.238887   \n",
       "\n",
       "   offset_stiswfcnic_007  offset_mod_008  \n",
       "0               0.050462        0.036298  \n",
       "1               0.007026        0.006270  \n",
       "2               0.005051        0.005414  \n",
       "3               0.000586        0.001240  \n",
       "4               0.003778        0.003767  \n",
       "5               0.003260        0.003221  "
      ]
     },
     "execution_count": 21,
     "metadata": {},
     "output_type": "execute_result"
    }
   ],
   "source": [
    "# Output final cleaned-up results...\n",
    "\n",
    "# Define the desired order of 'band'\n",
    "order = ['u', 'g', 'r', 'i', 'z', 'y']\n",
    "\n",
    "# Remove the 'index' column\n",
    "combined_df = combined_df.drop(columns=['index'])\n",
    "\n",
    "# Reorder the dataframe based on the 'band' column\n",
    "combined_df['band'] = pd.Categorical(combined_df['band'], categories=order, ordered=True)\n",
    "combined_df = combined_df.sort_values('band').reset_index(drop=True)\n",
    "\n",
    "combined_df"
   ]
  },
  {
   "cell_type": "code",
   "execution_count": 22,
   "metadata": {
    "execution": {
     "iopub.execute_input": "2025-10-15T18:52:33.927500Z",
     "iopub.status.busy": "2025-10-15T18:52:33.927378Z",
     "iopub.status.idle": "2025-10-15T18:52:33.944599Z",
     "shell.execute_reply": "2025-10-15T18:52:33.944203Z",
     "shell.execute_reply.started": "2025-10-15T18:52:33.927488Z"
    }
   },
   "outputs": [
    {
     "name": "stdout",
     "output_type": "stream",
     "text": [
      "u-band; empirical SED offset: 50.46 mmag; model SED offset: 36.30 mmag\n",
      "g-band; empirical SED offset: 7.03 mmag; model SED offset: 6.27 mmag\n",
      "r-band; empirical SED offset: 5.05 mmag; model SED offset: 5.41 mmag\n",
      "i-band; empirical SED offset: 0.59 mmag; model SED offset: 1.24 mmag\n",
      "z-band; empirical SED offset: 3.78 mmag; model SED offset: 3.77 mmag\n",
      "y-band; empirical SED offset: 3.26 mmag; model SED offset: 3.22 mmag\n"
     ]
    }
   ],
   "source": [
    "for band in flist:\n",
    "    pickband = (combined_df['band'] == band)\n",
    "    offset_hst = 1000.0*combined_df['offset_stiswfcnic_007'][pickband].values\n",
    "    offset_mod = 1000.0*combined_df['offset_mod_008'][pickband].values\n",
    "    \n",
    "    print(f\"{band}-band; empirical SED offset: {offset_hst[0]:.2f} mmag; model SED offset: {offset_mod[0]:.2f} mmag\")"
   ]
  },
  {
   "cell_type": "markdown",
   "metadata": {},
   "source": [
    "### Results:\n",
    "\n",
    "We have demonstrated that tools exist to calculate the accuracy of photometric transformation by comparison between measured magnitudes and expected magnitudes of a spectrophotometric flux standard. For LSSTComCam DP1 data, the offsets between calibrated `source` tables and the predicted magnitudes catalog is less than 10 mmag for all bands but the `u` band. Because this is less than the specified threshold **PA6 = 10 mmag** for all but `u` band, we deem the result of this test a **Pass**, but will assess further with LSSTCam on-sky data when it becomes available."
   ]
  },
  {
   "cell_type": "code",
   "execution_count": null,
   "metadata": {},
   "outputs": [],
   "source": []
  }
 ],
 "metadata": {
  "kernelspec": {
   "display_name": "LSST",
   "language": "python",
   "name": "lsst"
  },
  "language_info": {
   "codemirror_mode": {
    "name": "ipython",
    "version": 3
   },
   "file_extension": ".py",
   "mimetype": "text/x-python",
   "name": "python",
   "nbconvert_exporter": "python",
   "pygments_lexer": "ipython3",
   "version": "3.12.11"
  }
 },
 "nbformat": 4,
 "nbformat_minor": 4
}
