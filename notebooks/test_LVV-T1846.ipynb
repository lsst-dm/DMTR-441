{
 "cells": [
  {
   "cell_type": "markdown",
   "metadata": {
    "collapsed": true,
    "jupyter": {
     "outputs_hidden": true
    }
   },
   "source": [
    "### LVV-T1846: Verify calculation of band-to-band color zero-point accuracy including u-band\n",
    "\n",
    "Verify that the DM system provides software to assess whether the accuracy of absolute band-to-band color zero-points for all colors constructed from any filter pair, including the u-band, is less than **PA5u = 10 millimagnitudes**.\n",
    "\n",
    "**Discussion**: This requires observations of a source of \"truth\" in the form of [CalSpec](https://www.stsci.edu/hst/instrumentation/reference-data-for-calibration-and-tools/astronomical-catalogs/calspec) (or similar) spectrophotometric standards that can be used to assess the accuracy. At the time of this testing, only a single CalSpec standard (C26202) has been observed in all LSST bands, and only with LSSTComCam. This notebook demonstrates the methods for C26202 as observed with LSSTComCam and included in Data Preview 1 (DP1); once sufficient LSSTCam observations become available, this analysis can be done for LSSTCam data."
   ]
  },
  {
   "cell_type": "code",
   "execution_count": 1,
   "metadata": {
    "execution": {
     "iopub.execute_input": "2025-10-15T20:16:33.985647Z",
     "iopub.status.busy": "2025-10-15T20:16:33.985534Z",
     "iopub.status.idle": "2025-10-15T20:16:36.061829Z",
     "shell.execute_reply": "2025-10-15T20:16:36.061361Z",
     "shell.execute_reply.started": "2025-10-15T20:16:33.985633Z"
    }
   },
   "outputs": [
    {
     "name": "stderr",
     "output_type": "stream",
     "text": [
      "/sdf/data/rubin/user/jcarlin/repos/syseng_throughputs/syseng_throughputs/bandpassUtils.py:8: UserWarning: pkg_resources is deprecated as an API. See https://setuptools.pypa.io/en/latest/pkg_resources.html. The pkg_resources package is slated for removal as early as 2025-11-30. Refrain from using this package or pin to Setuptools<81.\n",
      "  import pkg_resources\n"
     ]
    }
   ],
   "source": [
    "# Generic python packages\n",
    "import matplotlib.pyplot as plt\n",
    "import numpy as np\n",
    "import pandas as pd\n",
    "import glob\n",
    "import math\n",
    "import os\n",
    "import gc\n",
    "import warnings\n",
    "\n",
    "# Set the environment variable to point to the rubin_sim data:\n",
    "os.environ[\"RUBIN_SIM_DATA_DIR\"] = \"/sdf/data/rubin/shared/rubin_sim_data\"\n",
    "\n",
    "# LSST Science Pipelines (Stack) packages\n",
    "import lsst.daf.butler as dafButler\n",
    "\n",
    "# rubin_sim-related packages\n",
    "import rubin_sim.phot_utils as pt\n",
    "import syseng_throughputs as st\n",
    "from rubin_sim.data import get_data_dir\n",
    "\n",
    "# Astropy-related packages\n",
    "from astropy import units as u\n",
    "from astropy.io import fits\n",
    "from astropy.coordinates import SkyCoord\n",
    "from astropy.table import Table\n",
    "\n",
    "# Set filter warnings to \"ignore\" to avoid a lot of excess log messages to the screen:\n",
    "warnings.filterwarnings(\"ignore\")"
   ]
  },
  {
   "cell_type": "code",
   "execution_count": 2,
   "metadata": {
    "execution": {
     "iopub.execute_input": "2025-10-15T20:16:36.062676Z",
     "iopub.status.busy": "2025-10-15T20:16:36.062320Z",
     "iopub.status.idle": "2025-10-15T20:16:36.065747Z",
     "shell.execute_reply": "2025-10-15T20:16:36.065367Z",
     "shell.execute_reply.started": "2025-10-15T20:16:36.062658Z"
    }
   },
   "outputs": [],
   "source": [
    "# Which repo, collection, instrument, and skymap to use.\n",
    "repo = '/repo/dp1'\n",
    "collections = 'LSSTComCam/DP1'\n",
    "\n",
    "instrument = 'LSSTComCam'\n",
    "skymap_name = 'lsst_cells_v1'\n",
    "day_obs_start = 20241101\n",
    "day_obs_end = 20241231\n",
    "\n",
    "verbose = 1   # 0, 1, 2, ...  Larger means more output to the screen.\n",
    "\n",
    "# Which flux to use?  psfFlux or calibFlux?\n",
    "fluxName = 'psfFlux'\n",
    "fluxerrName = 'psfFluxErr'\n",
    "#fluxName = 'calibFlux'\n",
    "#fluxerrName = 'calibFluxErr'\n",
    "\n",
    "# CalSpec star name\n",
    "star_name = 'C26202'\n",
    "\n",
    "# Which CalSpec spectrum FITS files to to use?\n",
    "sedfile_dict = {'stiswfcnic_007' : '/sdf/data/rubin/shared/calspec/2024-11-08/c26202_stiswfcnic_007.fits', \n",
    "                'mod_008'        : '/sdf/data/rubin/shared/calspec/2024-11-08/c26202_mod_008.fits'\n",
    "               }\n",
    "\n",
    "# RA, DEC of calspec star in degrees\n",
    "raDeg = 53.136845833333325\n",
    "decDeg = -27.86349444444444\n",
    "\n",
    "# List of filters to examine\n",
    "flist = ['u', 'g', 'r', 'i', 'z', 'y']"
   ]
  },
  {
   "cell_type": "markdown",
   "metadata": {},
   "source": [
    "#### Calculate Synthetic AB magnitudes for CalSpec star, based on official filter bandpasses"
   ]
  },
  {
   "cell_type": "markdown",
   "metadata": {},
   "source": [
    "Set up appropriate hardware and system from `syseng_throughputs`"
   ]
  },
  {
   "cell_type": "code",
   "execution_count": 3,
   "metadata": {
    "execution": {
     "iopub.execute_input": "2025-10-15T20:16:36.066225Z",
     "iopub.status.busy": "2025-10-15T20:16:36.066101Z",
     "iopub.status.idle": "2025-10-15T20:16:36.241930Z",
     "shell.execute_reply": "2025-10-15T20:16:36.241425Z",
     "shell.execute_reply.started": "2025-10-15T20:16:36.066212Z"
    }
   },
   "outputs": [],
   "source": [
    "defaultDirs = st.setDefaultDirs()\n",
    "if instrument == \"LSSTComCam\":\n",
    "    #Change detectors from (default) LSST to ComCam (ITL CCDs)\n",
    "    defaultDirs['detector'] = defaultDirs['detector'].replace('/joint_minimum',\n",
    "                                                              '/itl')\n",
    "hardware, system = st.buildHardwareAndSystem(defaultDirs)"
   ]
  },
  {
   "cell_type": "markdown",
   "metadata": {},
   "source": [
    "#### Calculate synthetic mags for C26202\n",
    "\n",
    "These are calculated for two different calibrated spectra of the CalSpec star: 'stiswfcnic_007' is the observed HST SED, and 'mod_008' is a model SED fit to the HST observations."
   ]
  },
  {
   "cell_type": "code",
   "execution_count": 4,
   "metadata": {
    "execution": {
     "iopub.execute_input": "2025-10-15T20:16:36.242553Z",
     "iopub.status.busy": "2025-10-15T20:16:36.242421Z",
     "iopub.status.idle": "2025-10-15T20:16:40.063888Z",
     "shell.execute_reply": "2025-10-15T20:16:40.063355Z",
     "shell.execute_reply.started": "2025-10-15T20:16:36.242540Z"
    }
   },
   "outputs": [
    {
     "name": "stdout",
     "output_type": "stream",
     "text": [
      "stiswfcnic_007 /sdf/data/rubin/shared/calspec/2024-11-08/c26202_stiswfcnic_007.fits\n",
      "mod_008 /sdf/data/rubin/shared/calspec/2024-11-08/c26202_mod_008.fits\n"
     ]
    }
   ],
   "source": [
    "mags = {}\n",
    "\n",
    "# Loop through the SEDs in our sedfile dictionary\n",
    "for sed_key in sedfile_dict:\n",
    "    \n",
    "    print(sed_key, sedfile_dict[sed_key])\n",
    "    \n",
    "    # Read the SED file associated with this SED\n",
    "    sedfile = sedfile_dict[sed_key]\n",
    "    seddata = fits.getdata(sedfile)\n",
    "\n",
    "    # Transform the SED data into rubin_sim format\n",
    "    wavelen = seddata['WAVELENGTH'] * u.angstrom.to(u.nanometer) # This is in angstroms - need in nanometers\n",
    "    flambda = seddata['FLUX'] / (u.angstrom.to(u.nanometer)) # this is in erg/sec/cm^^2/ang but we want /nm     \n",
    "    sed = pt.Sed(wavelen=wavelen, flambda=flambda)\n",
    "    \n",
    "    # Loop over the filters, calculating the synthetic mags for each filter for this SED\n",
    "    mags[sed_key] = []\n",
    "    for f in flist:\n",
    "        # Append the synthetic mag for this filter to this mags list for this SED\n",
    "        mags[sed_key].append(sed.calc_mag(system[f]))\n",
    "    # Convert list of synthetic mags for this SED into a numpy array\n",
    "    mags[sed_key] = np.array(mags[sed_key])"
   ]
  },
  {
   "cell_type": "code",
   "execution_count": 5,
   "metadata": {
    "execution": {
     "iopub.execute_input": "2025-10-15T20:16:40.064521Z",
     "iopub.status.busy": "2025-10-15T20:16:40.064372Z",
     "iopub.status.idle": "2025-10-15T20:16:40.071250Z",
     "shell.execute_reply": "2025-10-15T20:16:40.070858Z",
     "shell.execute_reply.started": "2025-10-15T20:16:40.064505Z"
    }
   },
   "outputs": [
    {
     "data": {
      "text/html": [
       "<div>\n",
       "<style scoped>\n",
       "    .dataframe tbody tr th:only-of-type {\n",
       "        vertical-align: middle;\n",
       "    }\n",
       "\n",
       "    .dataframe tbody tr th {\n",
       "        vertical-align: top;\n",
       "    }\n",
       "\n",
       "    .dataframe thead th {\n",
       "        text-align: right;\n",
       "    }\n",
       "</style>\n",
       "<table border=\"1\" class=\"dataframe\">\n",
       "  <thead>\n",
       "    <tr style=\"text-align: right;\">\n",
       "      <th></th>\n",
       "      <th>stiswfcnic_007</th>\n",
       "      <th>mod_008</th>\n",
       "    </tr>\n",
       "  </thead>\n",
       "  <tbody>\n",
       "    <tr>\n",
       "      <th>u</th>\n",
       "      <td>17.572800</td>\n",
       "      <td>17.586964</td>\n",
       "    </tr>\n",
       "    <tr>\n",
       "      <th>g</th>\n",
       "      <td>16.691931</td>\n",
       "      <td>16.692687</td>\n",
       "    </tr>\n",
       "    <tr>\n",
       "      <th>r</th>\n",
       "      <td>16.362017</td>\n",
       "      <td>16.361654</td>\n",
       "    </tr>\n",
       "    <tr>\n",
       "      <th>i</th>\n",
       "      <td>16.260196</td>\n",
       "      <td>16.259542</td>\n",
       "    </tr>\n",
       "    <tr>\n",
       "      <th>z</th>\n",
       "      <td>16.243679</td>\n",
       "      <td>16.243690</td>\n",
       "    </tr>\n",
       "    <tr>\n",
       "      <th>y</th>\n",
       "      <td>16.238847</td>\n",
       "      <td>16.238887</td>\n",
       "    </tr>\n",
       "  </tbody>\n",
       "</table>\n",
       "</div>"
      ],
      "text/plain": [
       "   stiswfcnic_007    mod_008\n",
       "u       17.572800  17.586964\n",
       "g       16.691931  16.692687\n",
       "r       16.362017  16.361654\n",
       "i       16.260196  16.259542\n",
       "z       16.243679  16.243690\n",
       "y       16.238847  16.238887"
      ]
     },
     "execution_count": 5,
     "metadata": {},
     "output_type": "execute_result"
    }
   ],
   "source": [
    "# Convert the mags numpy arrays into a pandas dataframe\n",
    "df_mags = pd.DataFrame(mags, index=flist)\n",
    "df_mags"
   ]
  },
  {
   "cell_type": "markdown",
   "metadata": {},
   "source": [
    "#### Query the Butler for observations of the CalSpec star"
   ]
  },
  {
   "cell_type": "code",
   "execution_count": 6,
   "metadata": {
    "execution": {
     "iopub.execute_input": "2025-10-15T20:16:40.071790Z",
     "iopub.status.busy": "2025-10-15T20:16:40.071647Z",
     "iopub.status.idle": "2025-10-15T20:16:40.424049Z",
     "shell.execute_reply": "2025-10-15T20:16:40.423515Z",
     "shell.execute_reply.started": "2025-10-15T20:16:40.071774Z"
    }
   },
   "outputs": [],
   "source": [
    "butler = dafButler.Butler(repo, collections=collections)"
   ]
  },
  {
   "cell_type": "markdown",
   "metadata": {},
   "source": [
    "Find all `visit_image`s that overlap the sky position of the CalSpec star."
   ]
  },
  {
   "cell_type": "code",
   "execution_count": 7,
   "metadata": {
    "execution": {
     "iopub.execute_input": "2025-10-15T20:16:40.424665Z",
     "iopub.status.busy": "2025-10-15T20:16:40.424530Z",
     "iopub.status.idle": "2025-10-15T20:16:40.474931Z",
     "shell.execute_reply": "2025-10-15T20:16:40.474425Z",
     "shell.execute_reply.started": "2025-10-15T20:16:40.424651Z"
    }
   },
   "outputs": [
    {
     "name": "stdout",
     "output_type": "stream",
     "text": [
      "0 {skymap: 'lsst_cells_v1', tract: 5063}\n",
      "\n",
      "Found 1 object tables\n"
     ]
    }
   ],
   "source": [
    "datasetRefs = butler.query_datasets(\"object\", where=\"patch.region OVERLAPS POINT(ra, dec)\",\n",
    "                                    bind={\"ra\": raDeg, \"dec\": decDeg})\n",
    "\n",
    "for i, ref in enumerate(datasetRefs):    \n",
    "    print(i, ref.dataId)\n",
    "    if ((verbose < 2) & (i >= 10)): \n",
    "        print(\"...\")\n",
    "        break\n",
    "\n",
    "print(f\"\\nFound {len(datasetRefs)} object tables\")"
   ]
  },
  {
   "cell_type": "markdown",
   "metadata": {},
   "source": [
    "#### Create a pandas DataFrame containing the `object` info for the standard(s).\n",
    "\n",
    "Loop over the `datasetRefs`, grab the contents of the `object` table for each `ref`, select the entries within 3 arcsec of the Calspec star, and combine them all into one big pandas DataFrame.  "
   ]
  },
  {
   "cell_type": "code",
   "execution_count": 8,
   "metadata": {
    "execution": {
     "iopub.execute_input": "2025-10-15T20:16:40.475586Z",
     "iopub.status.busy": "2025-10-15T20:16:40.475452Z",
     "iopub.status.idle": "2025-10-15T20:16:44.257015Z",
     "shell.execute_reply": "2025-10-15T20:16:44.256461Z",
     "shell.execute_reply.started": "2025-10-15T20:16:40.475573Z"
    }
   },
   "outputs": [
    {
     "name": "stdout",
     "output_type": "stream",
     "text": [
      "0 Visit {skymap: 'lsst_cells_v1', tract: 5063}:  Retrieved catalog of 335955 sources.\n",
      "\n",
      "Total combined catalog contains 1 objects.\n"
     ]
    }
   ],
   "source": [
    "obj_list = []\n",
    "\n",
    "# Create SkyCoord object for the coordinates of CalSpec star\n",
    "ref_coord = SkyCoord(ra=raDeg*u.degree, dec=decDeg*u.degree)\n",
    "\n",
    "for i, ref in enumerate(datasetRefs):\n",
    "    \n",
    "    # Retrieve the Object table for this ref...\n",
    "    # dataId = {'tract': ref.dataId['tract'], 'detector': ref.dataId['detector']}\n",
    "    obj = butler.get(ref, storageClass='DataFrame')\n",
    "\n",
    "    # Create SkyCoord object for all points in the dataframe\n",
    "    obj_coords = SkyCoord(ra=obj['coord_ra'].values*u.degree, \n",
    "                          dec=obj['coord_dec'].values*u.degree)\n",
    "\n",
    "    # Calculate separations\n",
    "    separations = ref_coord.separation(obj_coords)\n",
    "\n",
    "    # Create mask for points within 3.0 arcseconds\n",
    "    mask_sep = separations < 3.0*u.arcsec\n",
    "\n",
    "    # Get filtered dataframe\n",
    "    nearby_good_df = obj[mask_sep]\n",
    "\n",
    "    # Include the separations in the result\n",
    "    orig_columns = nearby_good_df.columns\n",
    "    nearby_good_df = obj[mask_sep].copy()\n",
    "    nearby_good_df['separation_calspec'] = separations[mask_sep].arcsec\n",
    "\n",
    "    # Find (and keep) the closet match within the match radius\n",
    "    best_df = nearby_good_df.sort_values('separation_calspec').drop_duplicates(subset=orig_columns,\n",
    "                                                                               keep='first')\n",
    "    obj_list.append(best_df)\n",
    "\n",
    "    if ((verbose >= 2) | (i < 10)): \n",
    "        print(f\"{i} Visit {ref.dataId}:  Retrieved catalog of {len(obj)} sources.\")\n",
    "    if ((verbose < 2) & (i == 10)): \n",
    "        print(\"...\")\n",
    "\n",
    "obj_all = pd.concat(obj_list, ignore_index=True)\n",
    "\n",
    "print(\"\")\n",
    "print(f\"Total combined catalog contains {len(obj_all)} objects.\")\n"
   ]
  },
  {
   "cell_type": "markdown",
   "metadata": {},
   "source": [
    "Add mag_obs and mag_obsErr columns:"
   ]
  },
  {
   "cell_type": "code",
   "execution_count": 9,
   "metadata": {
    "execution": {
     "iopub.execute_input": "2025-10-15T20:16:44.257690Z",
     "iopub.status.busy": "2025-10-15T20:16:44.257549Z",
     "iopub.status.idle": "2025-10-15T20:16:44.265176Z",
     "shell.execute_reply": "2025-10-15T20:16:44.264700Z",
     "shell.execute_reply.started": "2025-10-15T20:16:44.257676Z"
    }
   },
   "outputs": [],
   "source": [
    "for band in flist:\n",
    "    # Flux in nano-Janskys to AB magnitudes:\n",
    "    obj_all[f\"{band}mag_obs\"] = -2.5*np.log10(obj_all[f\"{band}_{fluxName}\"]) + 31.4\n",
    "\n",
    "    # Flux error in nano-Janskys to AB magnitude error:\n",
    "    # Factor of 2.5/math.log(10) is explained here:  https://astronomy.stackexchange.com/questions/38371/how-can-i-calculate-the-uncertainties-in-magnitude-like-the-cds-does\n",
    "    obj_all[f\"{band}mag_obsErr\"] = 2.5/math.log(10)*obj_all[f\"{band}_{fluxerrName}\"]/obj_all[f\"{band}_{fluxName}\"]"
   ]
  },
  {
   "cell_type": "markdown",
   "metadata": {},
   "source": [
    "Look at the resulting table:"
   ]
  },
  {
   "cell_type": "code",
   "execution_count": 10,
   "metadata": {
    "execution": {
     "iopub.execute_input": "2025-10-15T20:16:44.265799Z",
     "iopub.status.busy": "2025-10-15T20:16:44.265658Z",
     "iopub.status.idle": "2025-10-15T20:16:44.285227Z",
     "shell.execute_reply": "2025-10-15T20:16:44.284830Z",
     "shell.execute_reply.started": "2025-10-15T20:16:44.265787Z"
    }
   },
   "outputs": [
    {
     "data": {
      "text/html": [
       "<div>\n",
       "<style scoped>\n",
       "    .dataframe tbody tr th:only-of-type {\n",
       "        vertical-align: middle;\n",
       "    }\n",
       "\n",
       "    .dataframe tbody tr th {\n",
       "        vertical-align: top;\n",
       "    }\n",
       "\n",
       "    .dataframe thead th {\n",
       "        text-align: right;\n",
       "    }\n",
       "</style>\n",
       "<table border=\"1\" class=\"dataframe\">\n",
       "  <thead>\n",
       "    <tr style=\"text-align: right;\">\n",
       "      <th></th>\n",
       "      <th>tract</th>\n",
       "      <th>patch</th>\n",
       "      <th>g_ra</th>\n",
       "      <th>g_dec</th>\n",
       "      <th>g_raErr</th>\n",
       "      <th>g_decErr</th>\n",
       "      <th>g_ra_dec_Cov</th>\n",
       "      <th>g_psfFlux</th>\n",
       "      <th>g_psfFluxErr</th>\n",
       "      <th>g_free_psfFlux</th>\n",
       "      <th>...</th>\n",
       "      <th>gmag_obs</th>\n",
       "      <th>gmag_obsErr</th>\n",
       "      <th>rmag_obs</th>\n",
       "      <th>rmag_obsErr</th>\n",
       "      <th>imag_obs</th>\n",
       "      <th>imag_obsErr</th>\n",
       "      <th>zmag_obs</th>\n",
       "      <th>zmag_obsErr</th>\n",
       "      <th>ymag_obs</th>\n",
       "      <th>ymag_obsErr</th>\n",
       "    </tr>\n",
       "  </thead>\n",
       "  <tbody>\n",
       "    <tr>\n",
       "      <th>0</th>\n",
       "      <td>5063</td>\n",
       "      <td>24</td>\n",
       "      <td>53.137028</td>\n",
       "      <td>-27.863438</td>\n",
       "      <td>1.610198e-08</td>\n",
       "      <td>1.717744e-08</td>\n",
       "      <td>1.427354e-20</td>\n",
       "      <td>761098.625</td>\n",
       "      <td>63.617188</td>\n",
       "      <td>761088.25</td>\n",
       "      <td>...</td>\n",
       "      <td>16.696396</td>\n",
       "      <td>0.000091</td>\n",
       "      <td>16.363503</td>\n",
       "      <td>0.000076</td>\n",
       "      <td>16.260647</td>\n",
       "      <td>0.000094</td>\n",
       "      <td>16.244568</td>\n",
       "      <td>0.000117</td>\n",
       "      <td>16.239956</td>\n",
       "      <td>0.00045</td>\n",
       "    </tr>\n",
       "  </tbody>\n",
       "</table>\n",
       "<p>1 rows × 1292 columns</p>\n",
       "</div>"
      ],
      "text/plain": [
       "   tract  patch       g_ra      g_dec       g_raErr      g_decErr  \\\n",
       "0   5063     24  53.137028 -27.863438  1.610198e-08  1.717744e-08   \n",
       "\n",
       "   g_ra_dec_Cov   g_psfFlux  g_psfFluxErr  g_free_psfFlux  ...   gmag_obs  \\\n",
       "0  1.427354e-20  761098.625     63.617188       761088.25  ...  16.696396   \n",
       "\n",
       "   gmag_obsErr   rmag_obs  rmag_obsErr   imag_obs  imag_obsErr   zmag_obs  \\\n",
       "0     0.000091  16.363503     0.000076  16.260647     0.000094  16.244568   \n",
       "\n",
       "   zmag_obsErr   ymag_obs  ymag_obsErr  \n",
       "0     0.000117  16.239956      0.00045  \n",
       "\n",
       "[1 rows x 1292 columns]"
      ]
     },
     "execution_count": 10,
     "metadata": {},
     "output_type": "execute_result"
    }
   ],
   "source": [
    "obj_all"
   ]
  },
  {
   "cell_type": "markdown",
   "metadata": {},
   "source": [
    "#### Calculate the colors and compare to the standard(s)\n",
    "\n",
    "Calculate various colors, then compare them to the spectrophotometric standard's colors."
   ]
  },
  {
   "cell_type": "code",
   "execution_count": 11,
   "metadata": {
    "execution": {
     "iopub.execute_input": "2025-10-15T20:16:44.285772Z",
     "iopub.status.busy": "2025-10-15T20:16:44.285637Z",
     "iopub.status.idle": "2025-10-15T20:16:44.301443Z",
     "shell.execute_reply": "2025-10-15T20:16:44.301014Z",
     "shell.execute_reply.started": "2025-10-15T20:16:44.285759Z"
    }
   },
   "outputs": [],
   "source": [
    "colors_list = [('u', 'g'), ('u', 'r'), ('u', 'i'), ('u', 'z'), ('u', 'y')]"
   ]
  },
  {
   "cell_type": "code",
   "execution_count": 12,
   "metadata": {
    "execution": {
     "iopub.execute_input": "2025-10-15T20:16:44.302046Z",
     "iopub.status.busy": "2025-10-15T20:16:44.301908Z",
     "iopub.status.idle": "2025-10-15T20:16:44.317493Z",
     "shell.execute_reply": "2025-10-15T20:16:44.317057Z",
     "shell.execute_reply.started": "2025-10-15T20:16:44.302024Z"
    }
   },
   "outputs": [],
   "source": [
    "colornames = []\n",
    "meas_color = []\n",
    "hst_color = []\n",
    "model_color = []\n",
    "\n",
    "for bands in colors_list:\n",
    "    mag1 = obj_all[f\"{bands[0]}mag_obs\"]\n",
    "    mag2 = obj_all[f\"{bands[1]}mag_obs\"]\n",
    "    std_row1 = df_mags[df_mags.index == bands[0]]\n",
    "    std_row2 = df_mags[df_mags.index == bands[1]]\n",
    "\n",
    "    colornames.append(f\"{bands[0]}-{bands[1]}\")\n",
    "    meas_color.append(mag1 - mag2)\n",
    "    hst_color.append(std_row1['stiswfcnic_007'].values - std_row2['stiswfcnic_007'].values)\n",
    "    model_color.append(std_row1['mod_008'].values - std_row2['mod_008'].values)\n",
    "\n",
    "\n",
    "colornames = np.array(colornames)\n",
    "meas_color = np.array(meas_color)\n",
    "hst_color = np.array(hst_color)\n",
    "model_color = np.array(model_color)\n",
    "hst_color_diff = 1000.0*np.array(meas_color - hst_color)\n",
    "model_color_diff = 1000.0*np.array(meas_color - model_color)\n",
    "\n",
    "tab = Table([colornames, meas_color, hst_color, model_color, hst_color_diff, model_color_diff],\n",
    "            names = ['color', 'meas_DP1', 'stiswfcnic_007', 'mod_008', 'diff_DP1_stiswfcnic_007', 'diff_DP1_mod_008'],\n",
    "            units = ['', u.mag, u.mag, u.mag, u.mmag, u.mmag])\n",
    "\n",
    "for col in tab.columns[1:]:\n",
    "    tab[col].format = '%.4F'"
   ]
  },
  {
   "cell_type": "code",
   "execution_count": 13,
   "metadata": {
    "execution": {
     "iopub.execute_input": "2025-10-15T20:16:44.317903Z",
     "iopub.status.busy": "2025-10-15T20:16:44.317781Z",
     "iopub.status.idle": "2025-10-15T20:16:44.337449Z",
     "shell.execute_reply": "2025-10-15T20:16:44.337027Z",
     "shell.execute_reply.started": "2025-10-15T20:16:44.317892Z"
    }
   },
   "outputs": [
    {
     "data": {
      "text/html": [
       "<div><i>Table length=5</i>\n",
       "<table id=\"table140455504874960\" class=\"table-striped table-bordered table-condensed\">\n",
       "<thead><tr><th>color</th><th>meas_DP1</th><th>stiswfcnic_007</th><th>mod_008</th><th>diff_DP1_stiswfcnic_007</th><th>diff_DP1_mod_008</th></tr></thead>\n",
       "<thead><tr><th></th><th>mag</th><th>mag</th><th>mag</th><th>mmag</th><th>mmag</th></tr></thead>\n",
       "<thead><tr><th>str3</th><th>float32[1]</th><th>float64[1]</th><th>float64[1]</th><th>float64[1]</th><th>float64[1]</th></tr></thead>\n",
       "<tr><td>u-g</td><td>0.9277</td><td>0.8809</td><td>0.8943</td><td>46.8064</td><td>33.3986</td></tr>\n",
       "<tr><td>u-r</td><td>1.2606</td><td>1.2108</td><td>1.2253</td><td>49.7860</td><td>35.2593</td></tr>\n",
       "<tr><td>u-i</td><td>1.3634</td><td>1.3126</td><td>1.3274</td><td>50.8198</td><td>36.0025</td></tr>\n",
       "<tr><td>u-z</td><td>1.3795</td><td>1.3291</td><td>1.3433</td><td>50.3817</td><td>36.2290</td></tr>\n",
       "<tr><td>u-y</td><td>1.3841</td><td>1.3340</td><td>1.3481</td><td>50.1626</td><td>36.0382</td></tr>\n",
       "</table></div>"
      ],
      "text/plain": [
       "<Table length=5>\n",
       "color  meas_DP1  stiswfcnic_007 ... diff_DP1_stiswfcnic_007 diff_DP1_mod_008\n",
       "         mag          mag       ...           mmag                mmag      \n",
       " str3 float32[1]   float64[1]   ...        float64[1]          float64[1]   \n",
       "----- ---------- -------------- ... ----------------------- ----------------\n",
       "  u-g     0.9277         0.8809 ...                 46.8064          33.3986\n",
       "  u-r     1.2606         1.2108 ...                 49.7860          35.2593\n",
       "  u-i     1.3634         1.3126 ...                 50.8198          36.0025\n",
       "  u-z     1.3795         1.3291 ...                 50.3817          36.2290\n",
       "  u-y     1.3841         1.3340 ...                 50.1626          36.0382"
      ]
     },
     "execution_count": 13,
     "metadata": {},
     "output_type": "execute_result"
    }
   ],
   "source": [
    "tab"
   ]
  },
  {
   "cell_type": "markdown",
   "metadata": {},
   "source": [
    "### Results:\n",
    "\n",
    "We have demonstrated that tools exist to calculate the accuracy of band-to-band color zeropoints by comparison between measured magnitudes and expected magnitudes of a spectrophotometric flux standard. For LSSTComCam DP1 data, the offsets between colors from the calibrated `object` tables and the predicted colors are more than **PA5u = 10 mmag** for all colors that include the `u` band. Nonetheless, we deem the result of this test a **Pass**, as we have demonstrated that these offsets can be calculated as required. We will assess further with LSSTCam on-sky data when it becomes available."
   ]
  },
  {
   "cell_type": "code",
   "execution_count": null,
   "metadata": {},
   "outputs": [],
   "source": []
  }
 ],
 "metadata": {
  "kernelspec": {
   "display_name": "LSST",
   "language": "python",
   "name": "lsst"
  },
  "language_info": {
   "codemirror_mode": {
    "name": "ipython",
    "version": 3
   },
   "file_extension": ".py",
   "mimetype": "text/x-python",
   "name": "python",
   "nbconvert_exporter": "python",
   "pygments_lexer": "ipython3",
   "version": "3.12.11"
  }
 },
 "nbformat": 4,
 "nbformat_minor": 4
}
