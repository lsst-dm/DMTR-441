{
 "cells": [
  {
   "cell_type": "markdown",
   "id": "c88b0c3b-419d-497c-9697-334f3e0a9854",
   "metadata": {},
   "source": [
    "### Test case LVV-T60 - Verify implementation of Publishing predicted visit schedule\n",
    "Verify that a predict-visit schedule can be published by the OCS. <br>\n",
    "DMS-REQ-0353-V-01: Publishing predicted visit schedule\n",
    "\n",
    "### Discussion \n",
    "Description: Use simulated schedule and test that an external unauthenticated user can retrieve the information.\n",
    "\n",
    "**Specification:** A service shall be provided to publish to the community the next visit location and the predicted visit schedule provided by the OCS. This service shall consist of both a web page for human inspection and a web API to allow automated tools to respond promptly.\n",
    "\n",
    "**Discussion:** The next visit and advanced schedule do not need to be published using the same service or protocol."
   ]
  },
  {
   "cell_type": "code",
   "execution_count": null,
   "id": "51eb77ca-bdec-4264-8057-2f5bed79cf2e",
   "metadata": {},
   "outputs": [],
   "source": [
    "import os\n",
    "import requests\n",
    "import pandas as pd\n",
    "\n",
    "import matplotlib.pyplot as plt\n",
    "import matplotlib.image as mpimg"
   ]
  },
  {
   "cell_type": "markdown",
   "id": "bd038a48-a8a3-4067-a6fd-1150c0b4f46f",
   "metadata": {},
   "source": [
    "## Inspect the service"
   ]
  },
  {
   "cell_type": "code",
   "execution_count": null,
   "id": "6366192e-599a-4127-82e6-c716bd3c8b40",
   "metadata": {},
   "outputs": [],
   "source": [
    "# URL for the service\n",
    "obsloctap_url = \"https://usdf-rsp-dev.slac.stanford.edu/obsloctap\""
   ]
  },
  {
   "cell_type": "code",
   "execution_count": null,
   "id": "64f70fae-6d47-40b2-b7c5-9f1387da9264",
   "metadata": {},
   "outputs": [],
   "source": [
    "response = requests.get(obsloctap_url)\n",
    "assert response.status_code == 200, f\"request failed with status {response.status_code}\""
   ]
  },
  {
   "cell_type": "markdown",
   "id": "f1832040-9fcb-4de8-a522-fe57d603b088",
   "metadata": {},
   "source": [
    "The service web page is accessible programatically as a web API. Below is a snapshot the serivce, showing it is available for human inslection. The current format of the data is raw, but does satisfy the requirement that the publshed schedule be available for human inspection. Work will be done in Operations to make the visually more pleasing"
   ]
  },
  {
   "cell_type": "code",
   "execution_count": null,
   "id": "9b417821-006e-4c9a-b2a6-acb756a23e72",
   "metadata": {},
   "outputs": [],
   "source": [
    "# Look at the header information\n",
    "data = response.json()\n",
    "assert data is not None"
   ]
  },
  {
   "cell_type": "code",
   "execution_count": null,
   "id": "d5d2772a-d980-495d-9e82-ac1e54247ba6",
   "metadata": {},
   "outputs": [],
   "source": [
    "# Extract information\n",
    "md = data[\"metadata\"]\n",
    "print(md.keys())\n",
    "print(f\"ObsLocTap service running at USDF for {md.get(\"description\")} with documentation at  url {md.get(\"documentation_url\")}\")"
   ]
  },
  {
   "cell_type": "markdown",
   "id": "75ac1cae-673a-45f5-af5e-4d877ff7a4f4",
   "metadata": {},
   "source": [
    "As shown above, the service web page is accessible programatically as a web API, extracting metadata from the service, such as the github URL for the code. The service does not require authentication, a necessary requirent public publishing of the schedule."
   ]
  },
  {
   "cell_type": "markdown",
   "id": "37858421-e299-4a37-a3da-287423e56e76",
   "metadata": {},
   "source": [
    "Below is a snapshot the serivce, showing it is available for human inslection. The current format of the data is raw, but does satisfy the requirement that the publshed schedule be available for human inspection. Work will be done in Operations to make the visually more pleasing "
   ]
  },
  {
   "cell_type": "code",
   "execution_count": null,
   "id": "8679f32a-c4c1-4d5f-bf72-2dace7c00990",
   "metadata": {},
   "outputs": [],
   "source": [
    "img = mpimg.imread('../figures/test_LVV-T60.png')\n",
    "plt.imshow(img)\n",
    "plt.axis('off') \n",
    "plt.show()"
   ]
  },
  {
   "cell_type": "markdown",
   "id": "9e9c701e-8c66-433d-abf8-b853013c6b83",
   "metadata": {
    "execution": {
     "iopub.execute_input": "2025-04-22T19:46:38.539339Z",
     "iopub.status.busy": "2025-04-22T19:46:38.539009Z",
     "iopub.status.idle": "2025-04-22T19:46:38.541935Z",
     "shell.execute_reply": "2025-04-22T19:46:38.541492Z",
     "shell.execute_reply.started": "2025-04-22T19:46:38.539321Z"
    }
   },
   "source": [
    "## Retrieve the schedule "
   ]
  },
  {
   "cell_type": "code",
   "execution_count": null,
   "id": "44410b2e-5d25-41fc-8862-40e7162a1866",
   "metadata": {},
   "outputs": [],
   "source": [
    "# URL for schedule forecast\n",
    "schedule_url = obsloctap_url + \"/schedule\" \n",
    "assert schedule_url == \"https://usdf-rsp-dev.slac.stanford.edu/obsloctap/schedule\"\n",
    "response = requests.get(schedule_url)\n",
    "assert response.url == \"https://usdf-rsp-dev.slac.stanford.edu/obsloctap/schedule\"\n",
    "assert response.status_code == 200, f\"request failed with status {response.status_code}\""
   ]
  },
  {
   "cell_type": "markdown",
   "id": "e5a0e337-f856-4e59-bb6c-c1059177e59e",
   "metadata": {},
   "source": [
    "The schedule serivce is accessible programatically"
   ]
  },
  {
   "cell_type": "markdown",
   "id": "ad2ce62c-a837-4627-abd0-7992f9255101",
   "metadata": {},
   "source": [
    "### The previous 24hrs of observations taken"
   ]
  },
  {
   "cell_type": "code",
   "execution_count": null,
   "id": "6d45573f-45b9-4c1e-bc0f-1d1ed7dc583a",
   "metadata": {},
   "outputs": [],
   "source": [
    "# Get the  entries over the last 24 hours (currently returns the top 1000) \n",
    "# NOT YET COMPETE\n",
    "schedule_data_24 = response.json()\n",
    "len(schedule_data_24)"
   ]
  },
  {
   "cell_type": "markdown",
   "id": "ea5053ac-c9a2-4cdc-8a73-83c32cac40d5",
   "metadata": {},
   "source": [
    "Define parameters for the next x hours of visits"
   ]
  },
  {
   "cell_type": "code",
   "execution_count": null,
   "id": "53c65714-ee45-4dcd-85e2-aa3600d3ec37",
   "metadata": {},
   "outputs": [],
   "source": [
    "# Parameter for look forward time (next visit). Units is hours\n",
    "# not yet implemented\n",
    "# Look forward 1 hour\n",
    "params = {\n",
    "    \"time\": \"1\"\n",
    "}"
   ]
  },
  {
   "cell_type": "code",
   "execution_count": null,
   "id": "8498193b-abb4-4248-96b9-6ee2a4d2bd64",
   "metadata": {},
   "outputs": [],
   "source": [
    "response = requests.get(schedule_url, params=params)\n",
    "assert response.url == \"https://usdf-rsp-dev.slac.stanford.edu/obsloctap/schedule?time=1\"\n",
    "assert response.status_code == 200, f\"request failed with status {response.status_code}\""
   ]
  },
  {
   "cell_type": "code",
   "execution_count": null,
   "id": "ec9fb48b-2541-4270-a706-bb0a5c381054",
   "metadata": {},
   "outputs": [],
   "source": [
    "# NOT COMPLETE\n",
    "next_visits = response.json()\n",
    "len(next_visits)"
   ]
  },
  {
   "cell_type": "code",
   "execution_count": null,
   "id": "33ae16dd-76c9-4c0e-8b3c-548807bf68fc",
   "metadata": {},
   "outputs": [],
   "source": [
    "# Inspect the parameters returned\n",
    "next_visits[0].keys()"
   ]
  },
  {
   "cell_type": "code",
   "execution_count": null,
   "id": "8946d762-7776-4c27-ba25-b1f3c9b7af28",
   "metadata": {},
   "outputs": [],
   "source": [
    "# Convert to pandas for analysis\n",
    "next_visits_df = pd.DataFrame(next_visits)\n",
    "next_visits_df"
   ]
  }
 ],
 "metadata": {
  "kernelspec": {
   "display_name": "LSST",
   "language": "python",
   "name": "lsst"
  },
  "language_info": {
   "codemirror_mode": {
    "name": "ipython",
    "version": 3
   },
   "file_extension": ".py",
   "mimetype": "text/x-python",
   "name": "python",
   "nbconvert_exporter": "python",
   "pygments_lexer": "ipython3",
   "version": "3.12.9"
  }
 },
 "nbformat": 4,
 "nbformat_minor": 5
}
